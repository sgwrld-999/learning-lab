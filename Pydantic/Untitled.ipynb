{
 "cells": [
  {
   "cell_type": "code",
   "execution_count": 1,
   "id": "1ca6c52a-73d7-4f9b-be69-cfa5563152c7",
   "metadata": {},
   "outputs": [
    {
     "name": "stdout",
     "output_type": "stream",
     "text": [
      "Requirement already satisfied: pydantic in /Users/siddhantgond/miniconda3/lib/python3.13/site-packages (2.10.3)\n",
      "Requirement already satisfied: annotated-types>=0.6.0 in /Users/siddhantgond/miniconda3/lib/python3.13/site-packages (from pydantic) (0.6.0)\n",
      "Requirement already satisfied: pydantic-core==2.27.1 in /Users/siddhantgond/miniconda3/lib/python3.13/site-packages (from pydantic) (2.27.1)\n",
      "Requirement already satisfied: typing-extensions>=4.12.2 in /Users/siddhantgond/miniconda3/lib/python3.13/site-packages (from pydantic) (4.12.2)\n",
      "Note: you may need to restart the kernel to use updated packages.\n"
     ]
    }
   ],
   "source": [
    "pip install pydantic"
   ]
  },
  {
   "cell_type": "code",
   "execution_count": 1,
   "id": "57bf1b88-cbe5-42b2-91b1-e44b2d39a8b2",
   "metadata": {},
   "outputs": [],
   "source": [
    "from  pydantic import BaseModel, Field, field_validator\n",
    "import time"
   ]
  },
  {
   "cell_type": "markdown",
   "id": "63cc7bcd-e7f6-4992-85ad-c76afbf080fa",
   "metadata": {},
   "source": [
    "## Pydantic Mini‑Project: Order Processing\n",
    "\n",
    "### Part 1: LineItem Model\n",
    "- Define `LineItem` with `product_id`, `quantity: int (gt=0)`, `unit_price: float (gt=0)`\n",
    "- Add `@field_validator` to enforce positive values\n",
    "\n",
    "### Part 2: Nested Models\n",
    "- Define `Customer` model: `name`, `email`\n",
    "- Define `Order` model with `customer: Customer` and `items: List[LineItem]`\n",
    "\n",
    "### Part 3: Computed Field\n",
    "- Add `@computed_field` property `total_amount = sum(quantity * unit_price)`\n",
    "\n",
    "### Part 4: Model-Level Validation\n",
    "- Use `@model_validator(mode='after')` to ensure provided `total_amount` matches computed sum\n",
    "\n",
    "### Part 5: Serialization\n",
    "- Instantiate with raw dict/JSON\n",
    "- Use `.model_dump()` to get dict including nested and computed fields\n",
    "- Use `.model_dump_json()` to get JSON string\n"
   ]
  },
  {
   "cell_type": "code",
   "execution_count": 3,
   "id": "c3eeac82-1de1-496b-af61-87cb1eca57fe",
   "metadata": {},
   "outputs": [
    {
     "ename": "ImportError",
     "evalue": "cannot import name 'datatime' from 'datetime' (/Users/siddhantgond/miniconda3/lib/python3.13/datetime.py)",
     "output_type": "error",
     "traceback": [
      "\u001b[31m---------------------------------------------------------------------------\u001b[39m",
      "\u001b[31mImportError\u001b[39m                               Traceback (most recent call last)",
      "\u001b[36mCell\u001b[39m\u001b[36m \u001b[39m\u001b[32mIn[3]\u001b[39m\u001b[32m, line 1\u001b[39m\n\u001b[32m----> \u001b[39m\u001b[32m1\u001b[39m \u001b[38;5;28;01mfrom\u001b[39;00m\u001b[38;5;250m \u001b[39m\u001b[34;01mdatetime\u001b[39;00m\u001b[38;5;250m \u001b[39m\u001b[38;5;28;01mimport\u001b[39;00m datatime\n\u001b[32m      2\u001b[39m \u001b[38;5;28;01mfrom\u001b[39;00m\u001b[38;5;250m \u001b[39m\u001b[34;01mtyping\u001b[39;00m\u001b[38;5;250m \u001b[39m\u001b[38;5;28;01mimport\u001b[39;00m Union\n\u001b[32m      3\u001b[39m \u001b[38;5;28;01mfrom\u001b[39;00m\u001b[38;5;250m \u001b[39m\u001b[34;01menum\u001b[39;00m\u001b[38;5;250m \u001b[39m\u001b[38;5;28;01mimport\u001b[39;00m Enum \n",
      "\u001b[31mImportError\u001b[39m: cannot import name 'datatime' from 'datetime' (/Users/siddhantgond/miniconda3/lib/python3.13/datetime.py)"
     ]
    }
   ],
   "source": [
    "from datetime import datatime\n",
    "from typing import Union\n",
    "from enum import Enum \n",
    "\"\"\"\n",
    "What is Enum?\n",
    "An enum is a fixed set of named constants, typically used to represent a group of related values that don’t change during program execution. \n",
    "It’s a concept in computer science and supported in many programming languages (like Python, Java, C++, etc.).\n",
    "\n",
    "Key points:\n",
    "    - It represents a limited, predefined set of possible values.\n",
    "    - The values are named, making the code more readable.\n",
    "    - The set is immutable (i.e. the enum members don't change at runtime).\n",
    "\"\"\"\n",
    "\n",
    "#Creating a class of Payment method to ensure data consistency \n",
    "\"\"\" \n",
    "1. Identifying the problem:\n",
    "    Users can pass ANY string, leading to inconsistent data, typos, and invalid values. \n",
    "    I need to restrict the allowed values.\n",
    "2. Considering Options\n",
    "    Option A: Just use strings with validation\n",
    "pythondef validate_payment(method: str):\n",
    "    if method not in [\"credit_card\", \"debit_card\", \"paypal\"]:\n",
    "        raise ValueError(\"Invalid payment method\")\n",
    "    Problem: Validation logic scattered everywhere, no IDE support, easy to forget validation.\n",
    "    Option B: Use constants\n",
    "        pythonCREDIT_CARD = \"credit_card\"\n",
    "        DEBIT_CARD = \"debit_card\"\n",
    "        Problem: Just variables, no grouping, no type safety.\n",
    "    Option C: Use regular Enum\n",
    "        pythonclass PaymentMethod(Enum):\n",
    "            CREDIT_CARD = \"credit_card\"\n",
    "        Problem: Doesn't behave like a string, need .value everywhere.\n",
    "    Option D: Use str + Enum\n",
    "        pythonclass PaymentMethod(str, Enum):\n",
    "            CREDIT_CARD = \"credit_card\"\n",
    "    Thought: \"This gives me BOTH type safety AND string-like behavior!\"\n",
    "\"\"\"\n",
    "class PaymentMethod(str, Enum):\n",
    "    CREDIT_CARD = \"credit_card\"\n",
    "    DEBIT_CARD = \"debit_card\"\n",
    "    PAYPAL = \"paypal\"\n",
    "    BANK_TRANSFER = \"bank_transfer\"\n",
    "    CASH = \"cash\"\n",
    "\n",
    "class OrderStatus(str,Enum):\n",
    "    PENDING = \"pending\"\n",
    "    CONFIRMEND = \"confirmend\"\n",
    "    SHIPPED = \"shipped\"\n",
    "    DELIVERED = \"delivered\"\n",
    "    CANCELLED = \"cancelled\"\n",
    "\n",
    "class ListItem(BaseModel):\n",
    "    product_id: Union[int,str]\n",
    "    quantity: int\n",
    "    unit_price: float\n",
    "    ordered_data: datetime\n",
    "    payment_method: PaymentMethod\n",
    "    name_of_product: str\n",
    "    order_status: Orderstatus\n",
    "    "
   ]
  },
  {
   "cell_type": "markdown",
   "id": "8cf7b6c3-005b-4579-b6be-4745d028022a",
   "metadata": {},
   "source": [
    "## Why Import and Inherit from `BaseModel`?\n",
    "\n",
    "- `BaseModel` is the core class that powers all of Pydantic's features.\n",
    "- When we define a model (schema) by inheriting from `BaseModel`, we get:\n",
    "  - Type enforcement and coercion (e.g., `\"123\"` → `int`)\n",
    "  - Field validation and default handling\n",
    "  - Custom validation using `@field_validator` and `@model_validator`\n",
    "  - Serialization (`.model_dump()` and `.model_dump_json()`)\n",
    "  - Schema support for tools like FastAPI\n",
    "- Without `BaseModel`, the class has no built-in validation logic or data parsing ability.\n"
   ]
  },
  {
   "cell_type": "code",
   "execution_count": 5,
   "id": "9e41feba-7592-48e5-ae9f-1672c9d1985f",
   "metadata": {},
   "outputs": [
    {
     "name": "stdout",
     "output_type": "stream",
     "text": [
      "Collecting datetime\n",
      "  Downloading DateTime-5.5-py3-none-any.whl.metadata (33 kB)\n",
      "Collecting zope.interface (from datetime)\n",
      "  Downloading zope.interface-7.2-cp313-cp313-macosx_11_0_arm64.whl.metadata (44 kB)\n",
      "Requirement already satisfied: pytz in /Users/siddhantgond/miniconda3/lib/python3.13/site-packages (from datetime) (2025.2)\n",
      "Requirement already satisfied: setuptools in /Users/siddhantgond/miniconda3/lib/python3.13/site-packages (from zope.interface->datetime) (78.1.1)\n",
      "Downloading DateTime-5.5-py3-none-any.whl (52 kB)\n",
      "Downloading zope.interface-7.2-cp313-cp313-macosx_11_0_arm64.whl (209 kB)\n",
      "Installing collected packages: zope.interface, datetime\n",
      "\u001b[2K   \u001b[38;2;114;156;31m━━━━━━━━━━━━━━━━━━━━━━━━━━━━━━━━━━━━━━━━\u001b[0m \u001b[32m2/2\u001b[0m [datetime]\n",
      "\u001b[1A\u001b[2KSuccessfully installed datetime-5.5 zope.interface-7.2\n",
      "Note: you may need to restart the kernel to use updated packages.\n"
     ]
    }
   ],
   "source": [
    "pip install datetime"
   ]
  },
  {
   "cell_type": "code",
   "execution_count": 5,
   "id": "593de855-84a0-4c5f-9928-1723bf620d25",
   "metadata": {},
   "outputs": [],
   "source": [
    "#from datetime import datatime\n",
    "from typing import Union\n",
    "from enum import Enum \n",
    "\"\"\"\n",
    "What is Enum?\n",
    "An enum is a fixed set of named constants, typically used to represent a group of related values that don’t change during program execution. \n",
    "It’s a concept in computer science and supported in many programming languages (like Python, Java, C++, etc.).\n",
    "\n",
    "Key points:\n",
    "    - It represents a limited, predefined set of possible values.\n",
    "    - The values are named, making the code more readable.\n",
    "    - The set is immutable (i.e. the enum members don't change at runtime).\n",
    "\"\"\"\n",
    "\n",
    "#Creating a class of Payment method to ensure data consistency \n",
    "\"\"\" \n",
    "1. Identifying the problem:\n",
    "    Users can pass ANY string, leading to inconsistent data, typos, and invalid values. \n",
    "    I need to restrict the allowed values.\n",
    "2. Considering Options\n",
    "    Option A: Just use strings with validation\n",
    "pythondef validate_payment(method: str):\n",
    "    if method not in [\"credit_card\", \"debit_card\", \"paypal\"]:\n",
    "        raise ValueError(\"Invalid payment method\")\n",
    "    Problem: Validation logic scattered everywhere, no IDE support, easy to forget validation.\n",
    "    Option B: Use constants\n",
    "        pythonCREDIT_CARD = \"credit_card\"\n",
    "        DEBIT_CARD = \"debit_card\"\n",
    "        Problem: Just variables, no grouping, no type safety.\n",
    "    Option C: Use regular Enum\n",
    "        pythonclass PaymentMethod(Enum):\n",
    "            CREDIT_CARD = \"credit_card\"\n",
    "        Problem: Doesn't behave like a string, need .value everywhere.\n",
    "    Option D: Use str + Enum\n",
    "        pythonclass PaymentMethod(str, Enum):\n",
    "            CREDIT_CARD = \"credit_card\"\n",
    "    Thought: \"This gives me BOTH type safety AND string-like behavior!\"\n",
    "\"\"\"\n",
    "class PaymentMethod(str, Enum):\n",
    "    CREDIT_CARD = \"credit_card\"\n",
    "    DEBIT_CARD = \"debit_card\"\n",
    "    PAYPAL = \"paypal\"\n",
    "    BANK_TRANSFER = \"bank_transfer\"\n",
    "    CASH = \"cash\"\n",
    "\n",
    "class OrderStatus(str,Enum):\n",
    "    PENDING = \"pending\"\n",
    "    CONFIRMEND = \"confirmend\"\n",
    "    SHIPPED = \"shipped\"\n",
    "    DELIVERED = \"delivered\"\n",
    "    CANCELLED = \"cancelled\"\n",
    "\n",
    "class ListItem(BaseModel):\n",
    "    product_id: Union[int,str]\n",
    "    quantity: int\n",
    "    unit_price: float\n",
    "    #ordered_data: datetime\n",
    "    payment_method: PaymentMethod\n",
    "    name_of_product: str\n",
    "    order_status: OrderStatus\n",
    "    "
   ]
  },
  {
   "cell_type": "code",
   "execution_count": 7,
   "id": "de0dc363-fa48-42bc-ad2d-22faa0a240ac",
   "metadata": {},
   "outputs": [],
   "source": [
    "items1 = ListItem(\n",
    "    product_id=\"123fsd\",\n",
    "    quantity=2,\n",
    "    unit_price=32456545423.43536,\n",
    "    payment_method=PaymentMethod.CREDIT_CARD,\n",
    "    name_of_product=\"iPhone 12\",\n",
    "    order_status=OrderStatus.CONFIRMEND\n",
    ")"
   ]
  },
  {
   "cell_type": "code",
   "execution_count": 12,
   "id": "05e7576f-ef0a-497e-806f-0268f392a3a5",
   "metadata": {},
   "outputs": [
    {
     "data": {
      "text/plain": [
       "<bound method BaseModel.construct of <class '__main__.ListItem'>>"
      ]
     },
     "execution_count": 12,
     "metadata": {},
     "output_type": "execute_result"
    }
   ],
   "source": [
    "items1.construct"
   ]
  },
  {
   "cell_type": "code",
   "execution_count": 13,
   "id": "d61e38f5-7ec0-4355-ac05-e2a7aab069f7",
   "metadata": {},
   "outputs": [
    {
     "data": {
      "text/plain": [
       "'iPhone 12'"
      ]
     },
     "execution_count": 13,
     "metadata": {},
     "output_type": "execute_result"
    }
   ],
   "source": [
    "items1.name_of_product"
   ]
  },
  {
   "cell_type": "code",
   "execution_count": 14,
   "id": "6ad0543f-8117-47d4-8bdd-e9adecb6ead5",
   "metadata": {},
   "outputs": [
    {
     "data": {
      "text/plain": [
       "<bound method BaseModel.model_json_schema of <class '__main__.ListItem'>>"
      ]
     },
     "execution_count": 14,
     "metadata": {},
     "output_type": "execute_result"
    }
   ],
   "source": [
    "items1.model_json_schema"
   ]
  },
  {
   "cell_type": "code",
   "execution_count": 15,
   "id": "73200966-397c-4c21-9d14-d9583cd13feb",
   "metadata": {},
   "outputs": [
    {
     "data": {
      "text/plain": [
       "2"
      ]
     },
     "execution_count": 15,
     "metadata": {},
     "output_type": "execute_result"
    }
   ],
   "source": [
    "items1.quantity"
   ]
  },
  {
   "cell_type": "markdown",
   "id": "27ebe8e0-58f7-44ab-a0ae-57c845642847",
   "metadata": {},
   "source": [
    "## Using Field Validators in Pydantic\n",
    "\n",
    "- Use `@field_validator(field_name)` to apply custom logic to individual fields.\n",
    "- You can validate multiple fields with the same function by passing a list.\n",
    "- The function must be `@classmethod` and take `(cls, value, info)` as arguments.\n",
    "- Raise `ValueError` to reject invalid input.\n",
    "\n",
    "**Example:**\n",
    "```python\n",
    "@field_validator('quantity')\n",
    "@classmethod\n",
    "def check_positive(cls, v):\n",
    "    if v <= 0:\n",
    "        raise ValueError(\"Must be positive\")\n",
    "    return v\n"
   ]
  },
  {
   "cell_type": "code",
   "execution_count": 24,
   "id": "67de17d6-acd8-43fe-9d99-d1ad041486af",
   "metadata": {},
   "outputs": [],
   "source": [
    "from typing import Union\n",
    "from enum import Enum\n",
    "from pydantic import BaseModel, field_validator\n",
    "from pydantic_core.core_schema import FieldValidationInfo\n",
    "\n",
    "class PaymentMethod(str, Enum):\n",
    "    CREDIT_CARD = \"credit_card\"\n",
    "    DEBIT_CARD = \"debit_card\"\n",
    "    PAYPAL = \"paypal\"\n",
    "    BANK_TRANSFER = \"bank_transfer\"\n",
    "    CASH = \"cash\"\n",
    "\n",
    "class OrderStatus(str, Enum):\n",
    "    PENDING = \"pending\"\n",
    "    CONFIRMED = \"confirmed\"\n",
    "    SHIPPED = \"shipped\"\n",
    "    DELIVERED = \"delivered\"\n",
    "    CANCELLED = \"cancelled\"\n",
    "\n",
    "class ListItem(BaseModel):\n",
    "    product_id: Union[int, str]\n",
    "    quantity: int\n",
    "    unit_price: float\n",
    "    payment_method: PaymentMethod\n",
    "    name_of_product: str\n",
    "    order_status: OrderStatus\n",
    "\n",
    "    @field_validator('quantity', 'unit_price')\n",
    "    @classmethod\n",
    "    def must_be_positive(cls, v, info: FieldValidationInfo):\n",
    "        if v <= 0:\n",
    "            raise ValueError(f\"{info.field_name} must be > 0\")\n",
    "        return v\n",
    "\n",
    "    @field_validator('name_of_product')\n",
    "    @classmethod\n",
    "    def name_cannot_be_blank(cls, v: str):\n",
    "        if not v.strip():\n",
    "            raise ValueError(\"name_of_product can't be empty or just whitespace\")\n",
    "        return v\n"
   ]
  },
  {
   "cell_type": "code",
   "execution_count": 19,
   "id": "7b731d86-c5df-4d8e-9b7a-b053e2a81479",
   "metadata": {},
   "outputs": [],
   "source": [
    "# Valid input\n",
    "item = ListItem(\n",
    "    product_id=101,\n",
    "    quantity=2,\n",
    "    unit_price=499.99,\n",
    "    payment_method=\"credit_card\",\n",
    "    name_of_product=\"Wireless Mouse\",\n",
    "    order_status=\"pending\"\n",
    ")"
   ]
  },
  {
   "cell_type": "code",
   "execution_count": 20,
   "id": "3d67e68c-c80f-445f-8999-01288107367b",
   "metadata": {},
   "outputs": [
    {
     "data": {
      "text/plain": [
       "ListItem(product_id=101, quantity=2, unit_price=499.99, payment_method=<PaymentMethod.CREDIT_CARD: 'credit_card'>, name_of_product='Wireless Mouse', order_status=<OrderStatus.PENDING: 'pending'>)"
      ]
     },
     "execution_count": 20,
     "metadata": {},
     "output_type": "execute_result"
    }
   ],
   "source": [
    "item"
   ]
  },
  {
   "cell_type": "code",
   "execution_count": 21,
   "id": "812c68fa-3a46-4181-a1d9-a10198e2c14f",
   "metadata": {},
   "outputs": [
    {
     "ename": "ValidationError",
     "evalue": "1 validation error for ListItem\nquantity\n  Value error, quantity must be > 0 [type=value_error, input_value=0, input_type=int]\n    For further information visit https://errors.pydantic.dev/2.10/v/value_error",
     "output_type": "error",
     "traceback": [
      "\u001b[31m---------------------------------------------------------------------------\u001b[39m",
      "\u001b[31mValidationError\u001b[39m                           Traceback (most recent call last)",
      "\u001b[36mCell\u001b[39m\u001b[36m \u001b[39m\u001b[32mIn[21]\u001b[39m\u001b[32m, line 2\u001b[39m\n\u001b[32m      1\u001b[39m \u001b[38;5;66;03m# Invalid: quantity = 0\u001b[39;00m\n\u001b[32m----> \u001b[39m\u001b[32m2\u001b[39m ListItem(\n\u001b[32m      3\u001b[39m     product_id=\u001b[32m101\u001b[39m,\n\u001b[32m      4\u001b[39m     quantity=\u001b[32m0\u001b[39m,\n\u001b[32m      5\u001b[39m     unit_price=\u001b[32m499.99\u001b[39m,\n\u001b[32m      6\u001b[39m     payment_method=\u001b[33m\"\u001b[39m\u001b[33mcredit_card\u001b[39m\u001b[33m\"\u001b[39m,\n\u001b[32m      7\u001b[39m     name_of_product=\u001b[33m\"\u001b[39m\u001b[33mWireless Mouse\u001b[39m\u001b[33m\"\u001b[39m,\n\u001b[32m      8\u001b[39m     order_status=\u001b[33m\"\u001b[39m\u001b[33mpending\u001b[39m\u001b[33m\"\u001b[39m\n\u001b[32m      9\u001b[39m )\n",
      "\u001b[36mFile \u001b[39m\u001b[32m~/miniconda3/lib/python3.13/site-packages/pydantic/main.py:214\u001b[39m, in \u001b[36mBaseModel.__init__\u001b[39m\u001b[34m(self, **data)\u001b[39m\n\u001b[32m    212\u001b[39m \u001b[38;5;66;03m# `__tracebackhide__` tells pytest and some other tools to omit this function from tracebacks\u001b[39;00m\n\u001b[32m    213\u001b[39m __tracebackhide__ = \u001b[38;5;28;01mTrue\u001b[39;00m\n\u001b[32m--> \u001b[39m\u001b[32m214\u001b[39m validated_self = \u001b[38;5;28mself\u001b[39m.__pydantic_validator__.validate_python(data, self_instance=\u001b[38;5;28mself\u001b[39m)\n\u001b[32m    215\u001b[39m \u001b[38;5;28;01mif\u001b[39;00m \u001b[38;5;28mself\u001b[39m \u001b[38;5;129;01mis\u001b[39;00m \u001b[38;5;129;01mnot\u001b[39;00m validated_self:\n\u001b[32m    216\u001b[39m     warnings.warn(\n\u001b[32m    217\u001b[39m         \u001b[33m'\u001b[39m\u001b[33mA custom validator is returning a value other than `self`.\u001b[39m\u001b[38;5;130;01m\\n\u001b[39;00m\u001b[33m'\u001b[39m\n\u001b[32m    218\u001b[39m         \u001b[33m\"\u001b[39m\u001b[33mReturning anything other than `self` from a top level model validator isn\u001b[39m\u001b[33m'\u001b[39m\u001b[33mt supported when validating via `__init__`.\u001b[39m\u001b[38;5;130;01m\\n\u001b[39;00m\u001b[33m\"\u001b[39m\n\u001b[32m    219\u001b[39m         \u001b[33m'\u001b[39m\u001b[33mSee the `model_validator` docs (https://docs.pydantic.dev/latest/concepts/validators/#model-validators) for more details.\u001b[39m\u001b[33m'\u001b[39m,\n\u001b[32m    220\u001b[39m         stacklevel=\u001b[32m2\u001b[39m,\n\u001b[32m    221\u001b[39m     )\n",
      "\u001b[31mValidationError\u001b[39m: 1 validation error for ListItem\nquantity\n  Value error, quantity must be > 0 [type=value_error, input_value=0, input_type=int]\n    For further information visit https://errors.pydantic.dev/2.10/v/value_error"
     ]
    }
   ],
   "source": [
    "# Invalid: quantity = 0\n",
    "ListItem(\n",
    "    product_id=101,\n",
    "    quantity=0,\n",
    "    unit_price=499.99,\n",
    "    payment_method=\"credit_card\",\n",
    "    name_of_product=\"Wireless Mouse\",\n",
    "    order_status=\"pending\"\n",
    ")"
   ]
  },
  {
   "cell_type": "markdown",
   "id": "887e837b-6b52-4bc2-8586-f70caecd4c22",
   "metadata": {},
   "source": [
    "### 🧠 Concept: **What are Nested Models?**\n",
    "\n",
    "> A nested model is a Pydantic `BaseModel` used as a field inside another model.\n",
    "> This allows you to **compose complex schemas** from simpler, validated components.\n",
    "\n",
    "This pattern is crucial for:\n",
    "\n",
    "* APIs (e.g., an `Order` with multiple `ListItem`s)\n",
    "* Hierarchical data (e.g., user → profile → address)\n",
    "* Structuring config files, JSON, etc.\n",
    "\n",
    "---\n",
    "\n",
    "### ✅ Goal: Nest `ListItem` inside an `Order` model\n",
    "\n",
    "---\n",
    "\n",
    "### ✅ Step-by-Step Implementation\n",
    "\n",
    "```python\n",
    "from typing import List\n",
    "from pydantic import BaseModel\n",
    "from datetime import datetime\n",
    "\n",
    "# Existing ListItem, PaymentMethod, OrderStatus already defined...\n",
    "\n",
    "class Order(BaseModel):\n",
    "    order_id: int\n",
    "    customer_name: str\n",
    "    timestamp: datetime\n",
    "    items: List[ListItem]  # <- Nested model!\n",
    "```\n",
    "\n",
    "* `items` is a **list of validated `ListItem` objects**.\n",
    "* You can pass a list of dictionaries, and Pydantic will coerce and validate each.\n",
    "\n",
    "---\n",
    "\n",
    "### 🧪 Try It: Create an Order with Nested Items\n",
    "\n",
    "```python\n",
    "order_data = {\n",
    "    \"order_id\": 1001,\n",
    "    \"customer_name\": \"Alice\",\n",
    "    \"timestamp\": \"2025-07-30T14:20:00\",\n",
    "    \"items\": [\n",
    "        {\n",
    "            \"product_id\": \"A-42\",\n",
    "            \"quantity\": 2,\n",
    "            \"unit_price\": 149.99,\n",
    "            \"payment_method\": \"credit_card\",\n",
    "            \"name_of_product\": \"Bluetooth Speaker\",\n",
    "            \"order_status\": \"pending\"\n",
    "        },\n",
    "        {\n",
    "            \"product_id\": \"B-77\",\n",
    "            \"quantity\": 1,\n",
    "            \"unit_price\": 349.0,\n",
    "            \"payment_method\": \"paypal\",\n",
    "            \"name_of_product\": \"Mechanical Keyboard\",\n",
    "            \"order_status\": \"confirmed\"\n",
    "        }\n",
    "    ]\n",
    "}\n",
    "\n",
    "order = Order(**order_data)\n",
    "print(order.model_dump(indent=2))\n",
    "```\n",
    "\n",
    "---\n",
    "\n",
    "### ✅ What’s Happening Under the Hood:\n",
    "\n",
    "* Pydantic loops over the list under `\"items\"`.\n",
    "* For each dict, it instantiates a `ListItem`, validates it, and builds a clean nested structure.\n",
    "* If any field fails in any item, you’ll get a **detailed ValidationError** showing exactly where and what failed.\n",
    "\n",
    "---\n",
    "\n",
    "### ✅ Notes Version (For Your Journal)\n",
    "\n",
    "````markdown\n",
    "## What Are Nested Models?\n",
    "\n",
    "- A **nested model** is a Pydantic model used inside another as a field.\n",
    "- This enables **composable schemas** with deep validation and clear structure.\n",
    "- Example use case: `Order` containing multiple `ListItem`s.\n",
    "\n",
    "**Syntax:**\n",
    "```python\n",
    "class Order(BaseModel):\n",
    "    items: List[ListItem]\n",
    "````\n",
    "\n",
    "**Usage:**\n",
    "\n",
    "* Pydantic will:\n",
    "\n",
    "  * Recursively validate each nested item\n",
    "  * Provide accurate error location (e.g., `items.1.quantity`)\n",
    "  * Allow passing raw dicts (auto-coerced)\n",
    "\n",
    "**Benefits:**\n",
    "\n",
    "* Clean, modular model structure\n",
    "* Safer data handling across complex objects\n",
    "* Ideal for APIs, config files, and business logic\n"
   ]
  },
  {
   "cell_type": "code",
   "execution_count": 12,
   "id": "4cb401af-18ba-43fb-8167-734df06bc94e",
   "metadata": {},
   "outputs": [],
   "source": [
    "from typing import Union, Optional\n",
    "from enum import Enum\n",
    "from pydantic import BaseModel, EmailStr, field_validator\n",
    "from pydantic_core.core_schema import FieldValidationInfo\n",
    "\n",
    "class AddressOfCustomer(BaseModel):\n",
    "    house_num: Union[str, int]\n",
    "    street: str\n",
    "    city: str\n",
    "    pincode: int\n",
    "\n",
    "class Customer(BaseModel):\n",
    "    customer_first_name: str\n",
    "    customer_middle_name: Optional[str] = None\n",
    "    customer_last_name: str\n",
    "    email: EmailStr\n",
    "    mobile: int\n",
    "    address: AddressOfCustomer\n",
    "\n",
    "class PaymentMethod(str, Enum):\n",
    "    CREDIT_CARD = \"credit_card\"\n",
    "    DEBIT_CARD = \"debit_card\"\n",
    "    PAYPAL = \"paypal\"\n",
    "    BANK_TRANSFER = \"bank_transfer\"\n",
    "    CASH = \"cash\"\n",
    "\n",
    "class OrderStatus(str, Enum):\n",
    "    PENDING = \"pending\"\n",
    "    CONFIRMED = \"confirmed\"\n",
    "    SHIPPED = \"shipped\"\n",
    "    DELIVERED = \"delivered\"\n",
    "    CANCELLED = \"cancelled\"\n",
    "\n",
    "class ListItem(BaseModel):\n",
    "    customer: Customer  # FIXED: declare as a field, not a reference\n",
    "    product_id: Union[int, str]\n",
    "    quantity: int\n",
    "    unit_price: float\n",
    "    payment_method: PaymentMethod\n",
    "    name_of_product: str\n",
    "    order_status: OrderStatus\n",
    "\n",
    "    @field_validator('quantity', 'unit_price')\n",
    "    @classmethod\n",
    "    def must_be_positive(cls, v, info: FieldValidationInfo):\n",
    "        if v <= 0:\n",
    "            raise ValueError(f\"{info.field_name} must be > 0\")\n",
    "        return v\n",
    "\n",
    "    @field_validator('name_of_product')\n",
    "    @classmethod\n",
    "    def name_cannot_be_blank(cls, v: str):\n",
    "        if not v.strip():\n",
    "            raise ValueError(\"name_of_product can't be empty or just whitespace\")\n",
    "        return v\n"
   ]
  },
  {
   "cell_type": "code",
   "execution_count": 31,
   "id": "a555edbb-d763-4046-99a5-c6b1dad69da9",
   "metadata": {},
   "outputs": [
    {
     "name": "stdout",
     "output_type": "stream",
     "text": [
      "Requirement already satisfied: pydantic in /Users/siddhantgond/miniconda3/lib/python3.13/site-packages (2.10.3)\n",
      "Requirement already satisfied: annotated-types>=0.6.0 in /Users/siddhantgond/miniconda3/lib/python3.13/site-packages (from pydantic) (0.6.0)\n",
      "Requirement already satisfied: pydantic-core==2.27.1 in /Users/siddhantgond/miniconda3/lib/python3.13/site-packages (from pydantic) (2.27.1)\n",
      "Requirement already satisfied: typing-extensions>=4.12.2 in /Users/siddhantgond/miniconda3/lib/python3.13/site-packages (from pydantic) (4.12.2)\n",
      "Note: you may need to restart the kernel to use updated packages.\n"
     ]
    }
   ],
   "source": [
    "pip install pydantic"
   ]
  },
  {
   "cell_type": "code",
   "execution_count": 3,
   "id": "ce0ae2c4-5e5d-4f3b-9af3-4bab3dca7fdb",
   "metadata": {},
   "outputs": [
    {
     "name": "stdout",
     "output_type": "stream",
     "text": [
      "Requirement already satisfied: pydantic[email] in /Users/siddhantgond/miniconda3/lib/python3.13/site-packages (2.10.3)\n",
      "Requirement already satisfied: annotated-types>=0.6.0 in /Users/siddhantgond/miniconda3/lib/python3.13/site-packages (from pydantic[email]) (0.6.0)\n",
      "Requirement already satisfied: pydantic-core==2.27.1 in /Users/siddhantgond/miniconda3/lib/python3.13/site-packages (from pydantic[email]) (2.27.1)\n",
      "Requirement already satisfied: typing-extensions>=4.12.2 in /Users/siddhantgond/miniconda3/lib/python3.13/site-packages (from pydantic[email]) (4.12.2)\n",
      "Collecting email-validator>=2.0.0 (from pydantic[email])\n",
      "  Downloading email_validator-2.2.0-py3-none-any.whl.metadata (25 kB)\n",
      "Collecting dnspython>=2.0.0 (from email-validator>=2.0.0->pydantic[email])\n",
      "  Using cached dnspython-2.7.0-py3-none-any.whl.metadata (5.8 kB)\n",
      "Requirement already satisfied: idna>=2.0.0 in /Users/siddhantgond/miniconda3/lib/python3.13/site-packages (from email-validator>=2.0.0->pydantic[email]) (3.7)\n",
      "Downloading email_validator-2.2.0-py3-none-any.whl (33 kB)\n",
      "Using cached dnspython-2.7.0-py3-none-any.whl (313 kB)\n",
      "Installing collected packages: dnspython, email-validator\n",
      "\u001b[2K   \u001b[38;2;114;156;31m━━━━━━━━━━━━━━━━━━━━━━━━━━━━━━━━━━━━━━━━\u001b[0m \u001b[32m2/2\u001b[0m [email-validator]\n",
      "\u001b[1A\u001b[2KSuccessfully installed dnspython-2.7.0 email-validator-2.2.0\n",
      "Note: you may need to restart the kernel to use updated packages.\n"
     ]
    }
   ],
   "source": [
    "pip install pydantic\\[email\\]"
   ]
  },
  {
   "cell_type": "code",
   "execution_count": 5,
   "id": "d12356b3-da2b-4d6f-a6a4-ac238dc1310e",
   "metadata": {},
   "outputs": [],
   "source": [
    "item = ListItem(\n",
    "    customer=Customer(\n",
    "        customer_first_name=\"Alice\",\n",
    "        customer_middle_name=None,\n",
    "        customer_last_name=\"Smith\",\n",
    "        email=\"alice@example.com\",\n",
    "        mobile=9876543210,\n",
    "        address=AddressOfCustomer(\n",
    "            house_num=\"221B\",\n",
    "            street=\"Baker Street\",\n",
    "            city=\"London\",\n",
    "            pincode=\"123456\"\n",
    "        )\n",
    "    ),\n",
    "    product_id=101,\n",
    "    quantity=2,\n",
    "    unit_price=499.99,\n",
    "    payment_method=\"credit_card\",\n",
    "    name_of_product=\"Wireless Mouse\",\n",
    "    order_status=\"pending\"\n",
    ")\n"
   ]
  },
  {
   "cell_type": "code",
   "execution_count": 6,
   "id": "7265c91f-dbdd-49e5-a323-5be9e9bd0bce",
   "metadata": {},
   "outputs": [
    {
     "ename": "ValidationError",
     "evalue": "1 validation error for ListItem\nquantity\n  Value error, quantity must be > 0 [type=value_error, input_value=0, input_type=int]\n    For further information visit https://errors.pydantic.dev/2.10/v/value_error",
     "output_type": "error",
     "traceback": [
      "\u001b[31m---------------------------------------------------------------------------\u001b[39m",
      "\u001b[31mValidationError\u001b[39m                           Traceback (most recent call last)",
      "\u001b[36mCell\u001b[39m\u001b[36m \u001b[39m\u001b[32mIn[6]\u001b[39m\u001b[32m, line 1\u001b[39m\n\u001b[32m----> \u001b[39m\u001b[32m1\u001b[39m item = ListItem(\n\u001b[32m      2\u001b[39m     customer=Customer(\n\u001b[32m      3\u001b[39m         customer_first_name=\u001b[33m\"\u001b[39m\u001b[33mAlice\u001b[39m\u001b[33m\"\u001b[39m,\n\u001b[32m      4\u001b[39m         customer_middle_name=\u001b[38;5;28;01mNone\u001b[39;00m,\n\u001b[32m      5\u001b[39m         customer_last_name=\u001b[33m\"\u001b[39m\u001b[33mSmith\u001b[39m\u001b[33m\"\u001b[39m,\n\u001b[32m      6\u001b[39m         email=\u001b[33m\"\u001b[39m\u001b[33malice@example.com\u001b[39m\u001b[33m\"\u001b[39m,\n\u001b[32m      7\u001b[39m         mobile=\u001b[32m9876543210\u001b[39m,\n\u001b[32m      8\u001b[39m         address=AddressOfCustomer(\n\u001b[32m      9\u001b[39m             house_num=\u001b[33m\"\u001b[39m\u001b[33m221B\u001b[39m\u001b[33m\"\u001b[39m,\n\u001b[32m     10\u001b[39m             street=\u001b[33m\"\u001b[39m\u001b[33mBaker Street\u001b[39m\u001b[33m\"\u001b[39m,\n\u001b[32m     11\u001b[39m             city=\u001b[33m\"\u001b[39m\u001b[33mLondon\u001b[39m\u001b[33m\"\u001b[39m,\n\u001b[32m     12\u001b[39m             pincode=\u001b[33m\"\u001b[39m\u001b[33m123456\u001b[39m\u001b[33m\"\u001b[39m\n\u001b[32m     13\u001b[39m         )\n\u001b[32m     14\u001b[39m     ),\n\u001b[32m     15\u001b[39m     product_id=\u001b[32m101\u001b[39m,\n\u001b[32m     16\u001b[39m     quantity=\u001b[32m0\u001b[39m,\n\u001b[32m     17\u001b[39m     unit_price=\u001b[32m499.99\u001b[39m,\n\u001b[32m     18\u001b[39m     payment_method=\u001b[33m\"\u001b[39m\u001b[33mcredit_card\u001b[39m\u001b[33m\"\u001b[39m,\n\u001b[32m     19\u001b[39m     name_of_product=\u001b[33m\"\u001b[39m\u001b[33mWireless Mouse\u001b[39m\u001b[33m\"\u001b[39m,\n\u001b[32m     20\u001b[39m     order_status=\u001b[33m\"\u001b[39m\u001b[33mpending\u001b[39m\u001b[33m\"\u001b[39m\n\u001b[32m     21\u001b[39m )\n",
      "\u001b[36mFile \u001b[39m\u001b[32m~/miniconda3/lib/python3.13/site-packages/pydantic/main.py:214\u001b[39m, in \u001b[36mBaseModel.__init__\u001b[39m\u001b[34m(self, **data)\u001b[39m\n\u001b[32m    212\u001b[39m \u001b[38;5;66;03m# `__tracebackhide__` tells pytest and some other tools to omit this function from tracebacks\u001b[39;00m\n\u001b[32m    213\u001b[39m __tracebackhide__ = \u001b[38;5;28;01mTrue\u001b[39;00m\n\u001b[32m--> \u001b[39m\u001b[32m214\u001b[39m validated_self = \u001b[38;5;28mself\u001b[39m.__pydantic_validator__.validate_python(data, self_instance=\u001b[38;5;28mself\u001b[39m)\n\u001b[32m    215\u001b[39m \u001b[38;5;28;01mif\u001b[39;00m \u001b[38;5;28mself\u001b[39m \u001b[38;5;129;01mis\u001b[39;00m \u001b[38;5;129;01mnot\u001b[39;00m validated_self:\n\u001b[32m    216\u001b[39m     warnings.warn(\n\u001b[32m    217\u001b[39m         \u001b[33m'\u001b[39m\u001b[33mA custom validator is returning a value other than `self`.\u001b[39m\u001b[38;5;130;01m\\n\u001b[39;00m\u001b[33m'\u001b[39m\n\u001b[32m    218\u001b[39m         \u001b[33m\"\u001b[39m\u001b[33mReturning anything other than `self` from a top level model validator isn\u001b[39m\u001b[33m'\u001b[39m\u001b[33mt supported when validating via `__init__`.\u001b[39m\u001b[38;5;130;01m\\n\u001b[39;00m\u001b[33m\"\u001b[39m\n\u001b[32m    219\u001b[39m         \u001b[33m'\u001b[39m\u001b[33mSee the `model_validator` docs (https://docs.pydantic.dev/latest/concepts/validators/#model-validators) for more details.\u001b[39m\u001b[33m'\u001b[39m,\n\u001b[32m    220\u001b[39m         stacklevel=\u001b[32m2\u001b[39m,\n\u001b[32m    221\u001b[39m     )\n",
      "\u001b[31mValidationError\u001b[39m: 1 validation error for ListItem\nquantity\n  Value error, quantity must be > 0 [type=value_error, input_value=0, input_type=int]\n    For further information visit https://errors.pydantic.dev/2.10/v/value_error"
     ]
    }
   ],
   "source": [
    "item = ListItem(\n",
    "    customer=Customer(\n",
    "        customer_first_name=\"Alice\",\n",
    "        customer_middle_name=None,\n",
    "        customer_last_name=\"Smith\",\n",
    "        email=\"alice@example.com\",\n",
    "        mobile=9876543210,\n",
    "        address=AddressOfCustomer(\n",
    "            house_num=\"221B\",\n",
    "            street=\"Baker Street\",\n",
    "            city=\"London\",\n",
    "            pincode=\"123456\"\n",
    "        )\n",
    "    ),\n",
    "    product_id=101,\n",
    "    quantity=0,\n",
    "    unit_price=499.99,\n",
    "    payment_method=\"credit_card\",\n",
    "    name_of_product=\"Wireless Mouse\",\n",
    "    order_status=\"pending\"\n",
    ")\n"
   ]
  },
  {
   "cell_type": "code",
   "execution_count": 7,
   "id": "42eb82bb-fdc3-4e67-83ff-68c887a654e8",
   "metadata": {},
   "outputs": [
    {
     "ename": "ValidationError",
     "evalue": "1 validation error for ListItem\nunit_price\n  Value error, unit_price must be > 0 [type=value_error, input_value=-100.0, input_type=float]\n    For further information visit https://errors.pydantic.dev/2.10/v/value_error",
     "output_type": "error",
     "traceback": [
      "\u001b[31m---------------------------------------------------------------------------\u001b[39m",
      "\u001b[31mValidationError\u001b[39m                           Traceback (most recent call last)",
      "\u001b[36mCell\u001b[39m\u001b[36m \u001b[39m\u001b[32mIn[7]\u001b[39m\u001b[32m, line 1\u001b[39m\n\u001b[32m----> \u001b[39m\u001b[32m1\u001b[39m item = ListItem(\n\u001b[32m      2\u001b[39m     customer=Customer(\n\u001b[32m      3\u001b[39m         customer_first_name=\u001b[33m\"\u001b[39m\u001b[33mAlice\u001b[39m\u001b[33m\"\u001b[39m,\n\u001b[32m      4\u001b[39m         customer_middle_name=\u001b[38;5;28;01mNone\u001b[39;00m,\n\u001b[32m      5\u001b[39m         customer_last_name=\u001b[33m\"\u001b[39m\u001b[33mSmith\u001b[39m\u001b[33m\"\u001b[39m,\n\u001b[32m      6\u001b[39m         email=\u001b[33m\"\u001b[39m\u001b[33malice@example.com\u001b[39m\u001b[33m\"\u001b[39m,\n\u001b[32m      7\u001b[39m         mobile=\u001b[32m9876543210\u001b[39m,\n\u001b[32m      8\u001b[39m         address=AddressOfCustomer(\n\u001b[32m      9\u001b[39m             house_num=\u001b[33m\"\u001b[39m\u001b[33m221B\u001b[39m\u001b[33m\"\u001b[39m,\n\u001b[32m     10\u001b[39m             street=\u001b[33m\"\u001b[39m\u001b[33mBaker Street\u001b[39m\u001b[33m\"\u001b[39m,\n\u001b[32m     11\u001b[39m             city=\u001b[33m\"\u001b[39m\u001b[33mLondon\u001b[39m\u001b[33m\"\u001b[39m,\n\u001b[32m     12\u001b[39m             pincode=\u001b[33m\"\u001b[39m\u001b[33m123456\u001b[39m\u001b[33m\"\u001b[39m\n\u001b[32m     13\u001b[39m         )\n\u001b[32m     14\u001b[39m     ),\n\u001b[32m     15\u001b[39m     product_id=\u001b[32m101\u001b[39m,\n\u001b[32m     16\u001b[39m     quantity=\u001b[32m1\u001b[39m,\n\u001b[32m     17\u001b[39m     unit_price=-\u001b[32m100.0\u001b[39m,\n\u001b[32m     18\u001b[39m     payment_method=\u001b[33m\"\u001b[39m\u001b[33mcredit_card\u001b[39m\u001b[33m\"\u001b[39m,\n\u001b[32m     19\u001b[39m     name_of_product=\u001b[33m\"\u001b[39m\u001b[33mWireless Mouse\u001b[39m\u001b[33m\"\u001b[39m,\n\u001b[32m     20\u001b[39m     order_status=\u001b[33m\"\u001b[39m\u001b[33mpending\u001b[39m\u001b[33m\"\u001b[39m\n\u001b[32m     21\u001b[39m )\n",
      "\u001b[36mFile \u001b[39m\u001b[32m~/miniconda3/lib/python3.13/site-packages/pydantic/main.py:214\u001b[39m, in \u001b[36mBaseModel.__init__\u001b[39m\u001b[34m(self, **data)\u001b[39m\n\u001b[32m    212\u001b[39m \u001b[38;5;66;03m# `__tracebackhide__` tells pytest and some other tools to omit this function from tracebacks\u001b[39;00m\n\u001b[32m    213\u001b[39m __tracebackhide__ = \u001b[38;5;28;01mTrue\u001b[39;00m\n\u001b[32m--> \u001b[39m\u001b[32m214\u001b[39m validated_self = \u001b[38;5;28mself\u001b[39m.__pydantic_validator__.validate_python(data, self_instance=\u001b[38;5;28mself\u001b[39m)\n\u001b[32m    215\u001b[39m \u001b[38;5;28;01mif\u001b[39;00m \u001b[38;5;28mself\u001b[39m \u001b[38;5;129;01mis\u001b[39;00m \u001b[38;5;129;01mnot\u001b[39;00m validated_self:\n\u001b[32m    216\u001b[39m     warnings.warn(\n\u001b[32m    217\u001b[39m         \u001b[33m'\u001b[39m\u001b[33mA custom validator is returning a value other than `self`.\u001b[39m\u001b[38;5;130;01m\\n\u001b[39;00m\u001b[33m'\u001b[39m\n\u001b[32m    218\u001b[39m         \u001b[33m\"\u001b[39m\u001b[33mReturning anything other than `self` from a top level model validator isn\u001b[39m\u001b[33m'\u001b[39m\u001b[33mt supported when validating via `__init__`.\u001b[39m\u001b[38;5;130;01m\\n\u001b[39;00m\u001b[33m\"\u001b[39m\n\u001b[32m    219\u001b[39m         \u001b[33m'\u001b[39m\u001b[33mSee the `model_validator` docs (https://docs.pydantic.dev/latest/concepts/validators/#model-validators) for more details.\u001b[39m\u001b[33m'\u001b[39m,\n\u001b[32m    220\u001b[39m         stacklevel=\u001b[32m2\u001b[39m,\n\u001b[32m    221\u001b[39m     )\n",
      "\u001b[31mValidationError\u001b[39m: 1 validation error for ListItem\nunit_price\n  Value error, unit_price must be > 0 [type=value_error, input_value=-100.0, input_type=float]\n    For further information visit https://errors.pydantic.dev/2.10/v/value_error"
     ]
    }
   ],
   "source": [
    "item = ListItem(\n",
    "    customer=Customer(\n",
    "        customer_first_name=\"Alice\",\n",
    "        customer_middle_name=None,\n",
    "        customer_last_name=\"Smith\",\n",
    "        email=\"alice@example.com\",\n",
    "        mobile=9876543210,\n",
    "        address=AddressOfCustomer(\n",
    "            house_num=\"221B\",\n",
    "            street=\"Baker Street\",\n",
    "            city=\"London\",\n",
    "            pincode=\"123456\"\n",
    "        )\n",
    "    ),\n",
    "    product_id=101,\n",
    "    quantity=1,\n",
    "    unit_price=-100.0,\n",
    "    payment_method=\"credit_card\",\n",
    "    name_of_product=\"Wireless Mouse\",\n",
    "    order_status=\"pending\"\n",
    ")\n"
   ]
  },
  {
   "cell_type": "code",
   "execution_count": 8,
   "id": "57f5d40a-0ef8-4e16-b185-421b15ffcdc1",
   "metadata": {},
   "outputs": [
    {
     "ename": "ValidationError",
     "evalue": "1 validation error for ListItem\nname_of_product\n  Value error, name_of_product can't be empty or just whitespace [type=value_error, input_value='   ', input_type=str]\n    For further information visit https://errors.pydantic.dev/2.10/v/value_error",
     "output_type": "error",
     "traceback": [
      "\u001b[31m---------------------------------------------------------------------------\u001b[39m",
      "\u001b[31mValidationError\u001b[39m                           Traceback (most recent call last)",
      "\u001b[36mCell\u001b[39m\u001b[36m \u001b[39m\u001b[32mIn[8]\u001b[39m\u001b[32m, line 1\u001b[39m\n\u001b[32m----> \u001b[39m\u001b[32m1\u001b[39m item = ListItem(\n\u001b[32m      2\u001b[39m     customer=Customer(\n\u001b[32m      3\u001b[39m         customer_first_name=\u001b[33m\"\u001b[39m\u001b[33mAlice\u001b[39m\u001b[33m\"\u001b[39m,\n\u001b[32m      4\u001b[39m         customer_middle_name=\u001b[38;5;28;01mNone\u001b[39;00m,\n\u001b[32m      5\u001b[39m         customer_last_name=\u001b[33m\"\u001b[39m\u001b[33mSmith\u001b[39m\u001b[33m\"\u001b[39m,\n\u001b[32m      6\u001b[39m         email=\u001b[33m\"\u001b[39m\u001b[33malice@example.com\u001b[39m\u001b[33m\"\u001b[39m,\n\u001b[32m      7\u001b[39m         mobile=\u001b[32m9876543210\u001b[39m,\n\u001b[32m      8\u001b[39m         address=AddressOfCustomer(\n\u001b[32m      9\u001b[39m             house_num=\u001b[33m\"\u001b[39m\u001b[33m221B\u001b[39m\u001b[33m\"\u001b[39m,\n\u001b[32m     10\u001b[39m             street=\u001b[33m\"\u001b[39m\u001b[33mBaker Street\u001b[39m\u001b[33m\"\u001b[39m,\n\u001b[32m     11\u001b[39m             city=\u001b[33m\"\u001b[39m\u001b[33mLondon\u001b[39m\u001b[33m\"\u001b[39m,\n\u001b[32m     12\u001b[39m             pincode=\u001b[33m\"\u001b[39m\u001b[33m123456\u001b[39m\u001b[33m\"\u001b[39m\n\u001b[32m     13\u001b[39m         )\n\u001b[32m     14\u001b[39m     ),\n\u001b[32m     15\u001b[39m     product_id=\u001b[32m101\u001b[39m,\n\u001b[32m     16\u001b[39m     quantity=\u001b[32m1\u001b[39m,\n\u001b[32m     17\u001b[39m     unit_price=\u001b[32m499.99\u001b[39m,\n\u001b[32m     18\u001b[39m     payment_method=\u001b[33m\"\u001b[39m\u001b[33mcredit_card\u001b[39m\u001b[33m\"\u001b[39m,\n\u001b[32m     19\u001b[39m     name_of_product=\u001b[33m\"\u001b[39m\u001b[33m   \u001b[39m\u001b[33m\"\u001b[39m,\n\u001b[32m     20\u001b[39m     order_status=\u001b[33m\"\u001b[39m\u001b[33mpending\u001b[39m\u001b[33m\"\u001b[39m\n\u001b[32m     21\u001b[39m )\n",
      "\u001b[36mFile \u001b[39m\u001b[32m~/miniconda3/lib/python3.13/site-packages/pydantic/main.py:214\u001b[39m, in \u001b[36mBaseModel.__init__\u001b[39m\u001b[34m(self, **data)\u001b[39m\n\u001b[32m    212\u001b[39m \u001b[38;5;66;03m# `__tracebackhide__` tells pytest and some other tools to omit this function from tracebacks\u001b[39;00m\n\u001b[32m    213\u001b[39m __tracebackhide__ = \u001b[38;5;28;01mTrue\u001b[39;00m\n\u001b[32m--> \u001b[39m\u001b[32m214\u001b[39m validated_self = \u001b[38;5;28mself\u001b[39m.__pydantic_validator__.validate_python(data, self_instance=\u001b[38;5;28mself\u001b[39m)\n\u001b[32m    215\u001b[39m \u001b[38;5;28;01mif\u001b[39;00m \u001b[38;5;28mself\u001b[39m \u001b[38;5;129;01mis\u001b[39;00m \u001b[38;5;129;01mnot\u001b[39;00m validated_self:\n\u001b[32m    216\u001b[39m     warnings.warn(\n\u001b[32m    217\u001b[39m         \u001b[33m'\u001b[39m\u001b[33mA custom validator is returning a value other than `self`.\u001b[39m\u001b[38;5;130;01m\\n\u001b[39;00m\u001b[33m'\u001b[39m\n\u001b[32m    218\u001b[39m         \u001b[33m\"\u001b[39m\u001b[33mReturning anything other than `self` from a top level model validator isn\u001b[39m\u001b[33m'\u001b[39m\u001b[33mt supported when validating via `__init__`.\u001b[39m\u001b[38;5;130;01m\\n\u001b[39;00m\u001b[33m\"\u001b[39m\n\u001b[32m    219\u001b[39m         \u001b[33m'\u001b[39m\u001b[33mSee the `model_validator` docs (https://docs.pydantic.dev/latest/concepts/validators/#model-validators) for more details.\u001b[39m\u001b[33m'\u001b[39m,\n\u001b[32m    220\u001b[39m         stacklevel=\u001b[32m2\u001b[39m,\n\u001b[32m    221\u001b[39m     )\n",
      "\u001b[31mValidationError\u001b[39m: 1 validation error for ListItem\nname_of_product\n  Value error, name_of_product can't be empty or just whitespace [type=value_error, input_value='   ', input_type=str]\n    For further information visit https://errors.pydantic.dev/2.10/v/value_error"
     ]
    }
   ],
   "source": [
    "item = ListItem(\n",
    "    customer=Customer(\n",
    "        customer_first_name=\"Alice\",\n",
    "        customer_middle_name=None,\n",
    "        customer_last_name=\"Smith\",\n",
    "        email=\"alice@example.com\",\n",
    "        mobile=9876543210,\n",
    "        address=AddressOfCustomer(\n",
    "            house_num=\"221B\",\n",
    "            street=\"Baker Street\",\n",
    "            city=\"London\",\n",
    "            pincode=\"123456\"\n",
    "        )\n",
    "    ),\n",
    "    product_id=101,\n",
    "    quantity=1,\n",
    "    unit_price=499.99,\n",
    "    payment_method=\"credit_card\",\n",
    "    name_of_product=\"   \",\n",
    "    order_status=\"pending\"\n",
    ")\n"
   ]
  },
  {
   "cell_type": "code",
   "execution_count": 9,
   "id": "f359a7ec-a624-4aec-ba7d-bcb29797dcb8",
   "metadata": {},
   "outputs": [
    {
     "ename": "ValidationError",
     "evalue": "1 validation error for Customer\nemail\n  value is not a valid email address: An email address must have an @-sign. [type=value_error, input_value='not-an-email', input_type=str]",
     "output_type": "error",
     "traceback": [
      "\u001b[31m---------------------------------------------------------------------------\u001b[39m",
      "\u001b[31mValidationError\u001b[39m                           Traceback (most recent call last)",
      "\u001b[36mCell\u001b[39m\u001b[36m \u001b[39m\u001b[32mIn[9]\u001b[39m\u001b[32m, line 2\u001b[39m\n\u001b[32m      1\u001b[39m item = ListItem(\n\u001b[32m----> \u001b[39m\u001b[32m2\u001b[39m     customer=Customer(\n\u001b[32m      3\u001b[39m         customer_first_name=\u001b[33m\"\u001b[39m\u001b[33mAlice\u001b[39m\u001b[33m\"\u001b[39m,\n\u001b[32m      4\u001b[39m         customer_middle_name=\u001b[38;5;28;01mNone\u001b[39;00m,\n\u001b[32m      5\u001b[39m         customer_last_name=\u001b[33m\"\u001b[39m\u001b[33mSmith\u001b[39m\u001b[33m\"\u001b[39m,\n\u001b[32m      6\u001b[39m         email=\u001b[33m\"\u001b[39m\u001b[33mnot-an-email\u001b[39m\u001b[33m\"\u001b[39m,\n\u001b[32m      7\u001b[39m         mobile=\u001b[32m9876543210\u001b[39m,\n\u001b[32m      8\u001b[39m         address=AddressOfCustomer(\n\u001b[32m      9\u001b[39m             house_num=\u001b[33m\"\u001b[39m\u001b[33m221B\u001b[39m\u001b[33m\"\u001b[39m,\n\u001b[32m     10\u001b[39m             street=\u001b[33m\"\u001b[39m\u001b[33mBaker Street\u001b[39m\u001b[33m\"\u001b[39m,\n\u001b[32m     11\u001b[39m             city=\u001b[33m\"\u001b[39m\u001b[33mLondon\u001b[39m\u001b[33m\"\u001b[39m,\n\u001b[32m     12\u001b[39m             pincode=\u001b[33m\"\u001b[39m\u001b[33m123456\u001b[39m\u001b[33m\"\u001b[39m\n\u001b[32m     13\u001b[39m         )\n\u001b[32m     14\u001b[39m     ),\n\u001b[32m     15\u001b[39m     product_id=\u001b[32m101\u001b[39m,\n\u001b[32m     16\u001b[39m     quantity=\u001b[32m1\u001b[39m,\n\u001b[32m     17\u001b[39m     unit_price=\u001b[32m499.99\u001b[39m,\n\u001b[32m     18\u001b[39m     payment_method=\u001b[33m\"\u001b[39m\u001b[33mcredit_card\u001b[39m\u001b[33m\"\u001b[39m,\n\u001b[32m     19\u001b[39m     name_of_product=\u001b[33m\"\u001b[39m\u001b[33mWireless Mouse\u001b[39m\u001b[33m\"\u001b[39m,\n\u001b[32m     20\u001b[39m     order_status=\u001b[33m\"\u001b[39m\u001b[33mpending\u001b[39m\u001b[33m\"\u001b[39m\n\u001b[32m     21\u001b[39m )\n",
      "\u001b[36mFile \u001b[39m\u001b[32m~/miniconda3/lib/python3.13/site-packages/pydantic/main.py:214\u001b[39m, in \u001b[36mBaseModel.__init__\u001b[39m\u001b[34m(self, **data)\u001b[39m\n\u001b[32m    212\u001b[39m \u001b[38;5;66;03m# `__tracebackhide__` tells pytest and some other tools to omit this function from tracebacks\u001b[39;00m\n\u001b[32m    213\u001b[39m __tracebackhide__ = \u001b[38;5;28;01mTrue\u001b[39;00m\n\u001b[32m--> \u001b[39m\u001b[32m214\u001b[39m validated_self = \u001b[38;5;28mself\u001b[39m.__pydantic_validator__.validate_python(data, self_instance=\u001b[38;5;28mself\u001b[39m)\n\u001b[32m    215\u001b[39m \u001b[38;5;28;01mif\u001b[39;00m \u001b[38;5;28mself\u001b[39m \u001b[38;5;129;01mis\u001b[39;00m \u001b[38;5;129;01mnot\u001b[39;00m validated_self:\n\u001b[32m    216\u001b[39m     warnings.warn(\n\u001b[32m    217\u001b[39m         \u001b[33m'\u001b[39m\u001b[33mA custom validator is returning a value other than `self`.\u001b[39m\u001b[38;5;130;01m\\n\u001b[39;00m\u001b[33m'\u001b[39m\n\u001b[32m    218\u001b[39m         \u001b[33m\"\u001b[39m\u001b[33mReturning anything other than `self` from a top level model validator isn\u001b[39m\u001b[33m'\u001b[39m\u001b[33mt supported when validating via `__init__`.\u001b[39m\u001b[38;5;130;01m\\n\u001b[39;00m\u001b[33m\"\u001b[39m\n\u001b[32m    219\u001b[39m         \u001b[33m'\u001b[39m\u001b[33mSee the `model_validator` docs (https://docs.pydantic.dev/latest/concepts/validators/#model-validators) for more details.\u001b[39m\u001b[33m'\u001b[39m,\n\u001b[32m    220\u001b[39m         stacklevel=\u001b[32m2\u001b[39m,\n\u001b[32m    221\u001b[39m     )\n",
      "\u001b[31mValidationError\u001b[39m: 1 validation error for Customer\nemail\n  value is not a valid email address: An email address must have an @-sign. [type=value_error, input_value='not-an-email', input_type=str]"
     ]
    }
   ],
   "source": [
    "item = ListItem(\n",
    "    customer=Customer(\n",
    "        customer_first_name=\"Alice\",\n",
    "        customer_middle_name=None,\n",
    "        customer_last_name=\"Smith\",\n",
    "        email=\"not-an-email\",\n",
    "        mobile=9876543210,\n",
    "        address=AddressOfCustomer(\n",
    "            house_num=\"221B\",\n",
    "            street=\"Baker Street\",\n",
    "            city=\"London\",\n",
    "            pincode=\"123456\"\n",
    "        )\n",
    "    ),\n",
    "    product_id=101,\n",
    "    quantity=1,\n",
    "    unit_price=499.99,\n",
    "    payment_method=\"credit_card\",\n",
    "    name_of_product=\"Wireless Mouse\",\n",
    "    order_status=\"pending\"\n",
    ")\n"
   ]
  },
  {
   "cell_type": "code",
   "execution_count": 10,
   "id": "5a975763-feef-4d65-8ebb-e26fb03a32a9",
   "metadata": {},
   "outputs": [],
   "source": [
    "item = ListItem(\n",
    "    customer=Customer(\n",
    "        customer_first_name=\"Alice\",\n",
    "        customer_middle_name=None,\n",
    "        customer_last_name=\"Smith\",\n",
    "        email=\"alice@example.com\",\n",
    "        mobile=9876543210,\n",
    "        address=AddressOfCustomer(\n",
    "            house_num=\"221B\",\n",
    "            street=\"Baker Street\",\n",
    "            city=\"London\",\n",
    "            pincode=\"123\"\n",
    "        )\n",
    "    ),\n",
    "    product_id=101,\n",
    "    quantity=1,\n",
    "    unit_price=499.99,\n",
    "    payment_method=\"credit_card\",\n",
    "    name_of_product=\"Wireless Mouse\",\n",
    "    order_status=\"pending\"\n",
    ")\n"
   ]
  },
  {
   "cell_type": "code",
   "execution_count": 14,
   "id": "f2d378ac-cf9e-48f3-ab46-a6d92d068e4d",
   "metadata": {},
   "outputs": [],
   "source": [
    "item = ListItem(\n",
    "    customer=Customer(\n",
    "        customer_first_name=\"Alice\",\n",
    "        customer_middle_name=None,\n",
    "        customer_last_name=\"Smith\",\n",
    "        email=\"alice@example.com\",\n",
    "        mobile=9876543210,\n",
    "        address=AddressOfCustomer(\n",
    "            house_num=\"221B\",\n",
    "            street=\"Baker Street\",\n",
    "            city=\"London\",\n",
    "            pincode=\"123\" #need a int validator\n",
    "        )\n",
    "    ),\n",
    "    product_id=101,\n",
    "    quantity=1,\n",
    "    unit_price=499.99,\n",
    "    payment_method=\"credit_card\",\n",
    "    name_of_product=\"Wireless Mouse\",\n",
    "    order_status=\"pending\"\n",
    ")\n"
   ]
  },
  {
   "cell_type": "code",
   "execution_count": 15,
   "id": "5d3fa186-1979-4999-a1f0-ae7d9320a3e5",
   "metadata": {},
   "outputs": [
    {
     "ename": "ValidationError",
     "evalue": "1 validation error for ListItem\npayment_method\n  Input should be 'credit_card', 'debit_card', 'paypal', 'bank_transfer' or 'cash' [type=enum, input_value='bitcoin', input_type=str]\n    For further information visit https://errors.pydantic.dev/2.10/v/enum",
     "output_type": "error",
     "traceback": [
      "\u001b[31m---------------------------------------------------------------------------\u001b[39m",
      "\u001b[31mValidationError\u001b[39m                           Traceback (most recent call last)",
      "\u001b[36mCell\u001b[39m\u001b[36m \u001b[39m\u001b[32mIn[15]\u001b[39m\u001b[32m, line 1\u001b[39m\n\u001b[32m----> \u001b[39m\u001b[32m1\u001b[39m item = ListItem(\n\u001b[32m      2\u001b[39m     customer=Customer(\n\u001b[32m      3\u001b[39m         customer_first_name=\u001b[33m\"\u001b[39m\u001b[33mAlice\u001b[39m\u001b[33m\"\u001b[39m,\n\u001b[32m      4\u001b[39m         customer_middle_name=\u001b[38;5;28;01mNone\u001b[39;00m,\n\u001b[32m      5\u001b[39m         customer_last_name=\u001b[33m\"\u001b[39m\u001b[33mSmith\u001b[39m\u001b[33m\"\u001b[39m,\n\u001b[32m      6\u001b[39m         email=\u001b[33m\"\u001b[39m\u001b[33malice@example.com\u001b[39m\u001b[33m\"\u001b[39m,\n\u001b[32m      7\u001b[39m         mobile=\u001b[32m9876543210\u001b[39m,\n\u001b[32m      8\u001b[39m         address=AddressOfCustomer(\n\u001b[32m      9\u001b[39m             house_num=\u001b[33m\"\u001b[39m\u001b[33m221B\u001b[39m\u001b[33m\"\u001b[39m,\n\u001b[32m     10\u001b[39m             street=\u001b[33m\"\u001b[39m\u001b[33mBaker Street\u001b[39m\u001b[33m\"\u001b[39m,\n\u001b[32m     11\u001b[39m             city=\u001b[33m\"\u001b[39m\u001b[33mLondon\u001b[39m\u001b[33m\"\u001b[39m,\n\u001b[32m     12\u001b[39m             pincode=\u001b[33m\"\u001b[39m\u001b[33m123456\u001b[39m\u001b[33m\"\u001b[39m\n\u001b[32m     13\u001b[39m         )\n\u001b[32m     14\u001b[39m     ),\n\u001b[32m     15\u001b[39m     product_id=\u001b[32m101\u001b[39m,\n\u001b[32m     16\u001b[39m     quantity=\u001b[32m1\u001b[39m,\n\u001b[32m     17\u001b[39m     unit_price=\u001b[32m499.99\u001b[39m,\n\u001b[32m     18\u001b[39m     payment_method=\u001b[33m\"\u001b[39m\u001b[33mbitcoin\u001b[39m\u001b[33m\"\u001b[39m,\n\u001b[32m     19\u001b[39m     name_of_product=\u001b[33m\"\u001b[39m\u001b[33mWireless Mouse\u001b[39m\u001b[33m\"\u001b[39m,\n\u001b[32m     20\u001b[39m     order_status=\u001b[33m\"\u001b[39m\u001b[33mpending\u001b[39m\u001b[33m\"\u001b[39m\n\u001b[32m     21\u001b[39m )\n",
      "\u001b[36mFile \u001b[39m\u001b[32m~/miniconda3/lib/python3.13/site-packages/pydantic/main.py:214\u001b[39m, in \u001b[36mBaseModel.__init__\u001b[39m\u001b[34m(self, **data)\u001b[39m\n\u001b[32m    212\u001b[39m \u001b[38;5;66;03m# `__tracebackhide__` tells pytest and some other tools to omit this function from tracebacks\u001b[39;00m\n\u001b[32m    213\u001b[39m __tracebackhide__ = \u001b[38;5;28;01mTrue\u001b[39;00m\n\u001b[32m--> \u001b[39m\u001b[32m214\u001b[39m validated_self = \u001b[38;5;28mself\u001b[39m.__pydantic_validator__.validate_python(data, self_instance=\u001b[38;5;28mself\u001b[39m)\n\u001b[32m    215\u001b[39m \u001b[38;5;28;01mif\u001b[39;00m \u001b[38;5;28mself\u001b[39m \u001b[38;5;129;01mis\u001b[39;00m \u001b[38;5;129;01mnot\u001b[39;00m validated_self:\n\u001b[32m    216\u001b[39m     warnings.warn(\n\u001b[32m    217\u001b[39m         \u001b[33m'\u001b[39m\u001b[33mA custom validator is returning a value other than `self`.\u001b[39m\u001b[38;5;130;01m\\n\u001b[39;00m\u001b[33m'\u001b[39m\n\u001b[32m    218\u001b[39m         \u001b[33m\"\u001b[39m\u001b[33mReturning anything other than `self` from a top level model validator isn\u001b[39m\u001b[33m'\u001b[39m\u001b[33mt supported when validating via `__init__`.\u001b[39m\u001b[38;5;130;01m\\n\u001b[39;00m\u001b[33m\"\u001b[39m\n\u001b[32m    219\u001b[39m         \u001b[33m'\u001b[39m\u001b[33mSee the `model_validator` docs (https://docs.pydantic.dev/latest/concepts/validators/#model-validators) for more details.\u001b[39m\u001b[33m'\u001b[39m,\n\u001b[32m    220\u001b[39m         stacklevel=\u001b[32m2\u001b[39m,\n\u001b[32m    221\u001b[39m     )\n",
      "\u001b[31mValidationError\u001b[39m: 1 validation error for ListItem\npayment_method\n  Input should be 'credit_card', 'debit_card', 'paypal', 'bank_transfer' or 'cash' [type=enum, input_value='bitcoin', input_type=str]\n    For further information visit https://errors.pydantic.dev/2.10/v/enum"
     ]
    }
   ],
   "source": [
    "item = ListItem(\n",
    "    customer=Customer(\n",
    "        customer_first_name=\"Alice\",\n",
    "        customer_middle_name=None,\n",
    "        customer_last_name=\"Smith\",\n",
    "        email=\"alice@example.com\",\n",
    "        mobile=9876543210,\n",
    "        address=AddressOfCustomer(\n",
    "            house_num=\"221B\",\n",
    "            street=\"Baker Street\",\n",
    "            city=\"London\",\n",
    "            pincode=\"123456\"\n",
    "        )\n",
    "    ),\n",
    "    product_id=101,\n",
    "    quantity=1,\n",
    "    unit_price=499.99,\n",
    "    payment_method=\"bitcoin\",\n",
    "    name_of_product=\"Wireless Mouse\",\n",
    "    order_status=\"pending\"\n",
    ")\n"
   ]
  },
  {
   "cell_type": "markdown",
   "id": "66028825-a13d-4e8c-a03d-fbab18e93618",
   "metadata": {},
   "source": [
    "Excellent — you already understand the **concept**. Let's now deepen it with **practical insight** using your existing `ListItem` and `Customer` models.\n",
    "\n",
    "---\n",
    "\n",
    "### ✅ What Exactly Is a Model Validator?\n",
    "\n",
    "Unlike a field validator (which sees only **one field** at a time), a **model validator** sees the **entire model**, fully initialised. This allows it to validate **cross-field logic** or **overall consistency**.\n",
    "\n",
    "---\n",
    "\n",
    "### 🔍 When Would You Use It?\n",
    "\n",
    "Here are scenarios specific to your models:\n",
    "\n",
    "#### 1. **`quantity * unit_price` must not exceed a certain amount**\n",
    "\n",
    "* e.g., Reject orders above ₹100,000.\n",
    "\n",
    "#### 2. **`payment_method = CASH` is only allowed if `unit_price * quantity < 5000`**\n",
    "\n",
    "* To prevent high-value cash transactions.\n",
    "\n",
    "#### 3. **For digital payment methods, email must be present and valid**\n",
    "\n",
    "* Enforce payment → communication logic.\n",
    "\n",
    "---\n",
    "\n",
    "### ⚙️ How It Works in Code (Pseudocode)\n",
    "\n",
    "```python\n",
    "from pydantic import model_validator\n",
    "\n",
    "class ListItem(BaseModel):\n",
    "    ...\n",
    "    \n",
    "    @model_validator(mode='after')\n",
    "    def check_total_price_and_payment(cls, model):\n",
    "        # You can access model.quantity, model.unit_price, etc.\n",
    "        if model.quantity * model.unit_price > 100000:\n",
    "            raise ValueError(\"Total price exceeds allowed maximum\")\n",
    "        return model\n",
    "```\n",
    "\n",
    "This runs **after** all field-level validators are completed and the object is fully constructed.\n",
    "\n",
    "---\n",
    "\n",
    "### 🧠 Practice Task\n",
    "\n",
    "You tell me:\n",
    "Based on the logic above, which **realistic rule** from your domain would benefit from a model validator in `ListItem`?\n",
    "\n",
    "Formulate the logic in plain English — do not write code.\n",
    "I'll then help you translate it into validator logic.\n"
   ]
  },
  {
   "cell_type": "code",
   "execution_count": 16,
   "id": "7cf2b1cb-5ccf-42d2-8b70-e4554f541487",
   "metadata": {},
   "outputs": [],
   "source": [
    "from typing import Union, Optional\n",
    "from enum import Enum\n",
    "from pydantic import BaseModel, EmailStr, field_validator, model_validator\n",
    "from pydantic_core.core_schema import FieldValidationInfo\n",
    "\n",
    "class AddressOfCustomer(BaseModel):\n",
    "    house_num: Union[str, int]\n",
    "    street: str\n",
    "    city: str\n",
    "    pincode: int\n",
    "\n",
    "class Customer(BaseModel):\n",
    "    customer_first_name: str\n",
    "    customer_middle_name: Optional[str] = None\n",
    "    customer_last_name: str\n",
    "    email: EmailStr\n",
    "    mobile: int\n",
    "    address: AddressOfCustomer\n",
    "\n",
    "class PaymentMethod(str, Enum):\n",
    "    CREDIT_CARD = \"credit_card\"\n",
    "    DEBIT_CARD = \"debit_card\"\n",
    "    PAYPAL = \"paypal\"\n",
    "    BANK_TRANSFER = \"bank_transfer\"\n",
    "    CASH = \"cash\"\n",
    "\n",
    "class OrderStatus(str, Enum):\n",
    "    PENDING = \"pending\"\n",
    "    CONFIRMED = \"confirmed\"\n",
    "    SHIPPED = \"shipped\"\n",
    "    DELIVERED = \"delivered\"\n",
    "    CANCELLED = \"cancelled\"\n",
    "\n",
    "class ListItem(BaseModel):\n",
    "    customer: Customer\n",
    "    product_id: Union[int, str]\n",
    "    quantity: int\n",
    "    unit_price: float\n",
    "    payment_method: PaymentMethod\n",
    "    name_of_product: str\n",
    "    order_status: OrderStatus\n",
    "\n",
    "    @field_validator('quantity', 'unit_price')\n",
    "    @classmethod\n",
    "    def must_be_positive(cls, v, info: FieldValidationInfo):\n",
    "        if v <= 0:\n",
    "            raise ValueError(f\"{info.field_name} must be > 0\")\n",
    "        return v\n",
    "\n",
    "    @field_validator('name_of_product')\n",
    "    @classmethod\n",
    "    def name_cannot_be_blank(cls, v: str):\n",
    "        if not v.strip():\n",
    "            raise ValueError(\"name_of_product can't be empty or just whitespace\")\n",
    "        return v\n",
    "\n",
    "    @model_validator(mode='after')\n",
    "    def check_payment_and_status(cls, values):\n",
    "        if values.payment_method == PaymentMethod.CASH and values.order_status != OrderStatus.PENDING:\n",
    "            raise ValueError(\"If payment_method is 'cash', order_status must be 'pending'\")\n",
    "        return values\n"
   ]
  },
  {
   "cell_type": "code",
   "execution_count": 17,
   "id": "c4be4490-72b4-498d-9f20-0411abc2977c",
   "metadata": {},
   "outputs": [],
   "source": [
    "item = ListItem(\n",
    "    customer=Customer(\n",
    "        customer_first_name=\"Alice\",\n",
    "        customer_last_name=\"Doe\",\n",
    "        email=\"alice@example.com\",\n",
    "        mobile=1234567890,\n",
    "        address=AddressOfCustomer(\n",
    "            house_num=\"221B\",\n",
    "            street=\"Baker Street\",\n",
    "            city=\"London\",\n",
    "            pincode=123456\n",
    "        )\n",
    "    ),\n",
    "    product_id=\"PRD001\",\n",
    "    quantity=1,\n",
    "    unit_price=150.0,\n",
    "    payment_method=\"cash\",\n",
    "    name_of_product=\"Notebook\",\n",
    "    order_status=\"pending\"\n",
    ")\n"
   ]
  },
  {
   "cell_type": "code",
   "execution_count": 18,
   "id": "91d70485-83bf-4079-9bbe-1b2b45f4217d",
   "metadata": {},
   "outputs": [
    {
     "ename": "ValidationError",
     "evalue": "1 validation error for ListItem\n  Value error, If payment_method is 'cash', order_status must be 'pending' [type=value_error, input_value={'customer': Customer(cus...rder_status': 'shipped'}, input_type=dict]\n    For further information visit https://errors.pydantic.dev/2.10/v/value_error",
     "output_type": "error",
     "traceback": [
      "\u001b[31m---------------------------------------------------------------------------\u001b[39m",
      "\u001b[31mValidationError\u001b[39m                           Traceback (most recent call last)",
      "\u001b[36mCell\u001b[39m\u001b[36m \u001b[39m\u001b[32mIn[18]\u001b[39m\u001b[32m, line 2\u001b[39m\n\u001b[32m      1\u001b[39m \u001b[38;5;66;03m# This should raise a model validation error\u001b[39;00m\n\u001b[32m----> \u001b[39m\u001b[32m2\u001b[39m ListItem(\n\u001b[32m      3\u001b[39m     customer=Customer(\n\u001b[32m      4\u001b[39m         customer_first_name=\u001b[33m\"\u001b[39m\u001b[33mBob\u001b[39m\u001b[33m\"\u001b[39m,\n\u001b[32m      5\u001b[39m         customer_last_name=\u001b[33m\"\u001b[39m\u001b[33mSmith\u001b[39m\u001b[33m\"\u001b[39m,\n\u001b[32m      6\u001b[39m         email=\u001b[33m\"\u001b[39m\u001b[33mbob@example.com\u001b[39m\u001b[33m\"\u001b[39m,\n\u001b[32m      7\u001b[39m         mobile=\u001b[32m9876543210\u001b[39m,\n\u001b[32m      8\u001b[39m         address=AddressOfCustomer(\n\u001b[32m      9\u001b[39m             house_num=\u001b[33m\"\u001b[39m\u001b[33m5A\u001b[39m\u001b[33m\"\u001b[39m,\n\u001b[32m     10\u001b[39m             street=\u001b[33m\"\u001b[39m\u001b[33mElm Street\u001b[39m\u001b[33m\"\u001b[39m,\n\u001b[32m     11\u001b[39m             city=\u001b[33m\"\u001b[39m\u001b[33mSpringwood\u001b[39m\u001b[33m\"\u001b[39m,\n\u001b[32m     12\u001b[39m             pincode=\u001b[32m654321\u001b[39m\n\u001b[32m     13\u001b[39m         )\n\u001b[32m     14\u001b[39m     ),\n\u001b[32m     15\u001b[39m     product_id=\u001b[33m\"\u001b[39m\u001b[33mPRD002\u001b[39m\u001b[33m\"\u001b[39m,\n\u001b[32m     16\u001b[39m     quantity=\u001b[32m2\u001b[39m,\n\u001b[32m     17\u001b[39m     unit_price=\u001b[32m99.99\u001b[39m,\n\u001b[32m     18\u001b[39m     payment_method=\u001b[33m\"\u001b[39m\u001b[33mcash\u001b[39m\u001b[33m\"\u001b[39m,\n\u001b[32m     19\u001b[39m     name_of_product=\u001b[33m\"\u001b[39m\u001b[33mBackpack\u001b[39m\u001b[33m\"\u001b[39m,\n\u001b[32m     20\u001b[39m     order_status=\u001b[33m\"\u001b[39m\u001b[33mshipped\u001b[39m\u001b[33m\"\u001b[39m  \u001b[38;5;66;03m# Invalid with CASH\u001b[39;00m\n\u001b[32m     21\u001b[39m )\n",
      "\u001b[36mFile \u001b[39m\u001b[32m~/miniconda3/lib/python3.13/site-packages/pydantic/main.py:214\u001b[39m, in \u001b[36mBaseModel.__init__\u001b[39m\u001b[34m(self, **data)\u001b[39m\n\u001b[32m    212\u001b[39m \u001b[38;5;66;03m# `__tracebackhide__` tells pytest and some other tools to omit this function from tracebacks\u001b[39;00m\n\u001b[32m    213\u001b[39m __tracebackhide__ = \u001b[38;5;28;01mTrue\u001b[39;00m\n\u001b[32m--> \u001b[39m\u001b[32m214\u001b[39m validated_self = \u001b[38;5;28mself\u001b[39m.__pydantic_validator__.validate_python(data, self_instance=\u001b[38;5;28mself\u001b[39m)\n\u001b[32m    215\u001b[39m \u001b[38;5;28;01mif\u001b[39;00m \u001b[38;5;28mself\u001b[39m \u001b[38;5;129;01mis\u001b[39;00m \u001b[38;5;129;01mnot\u001b[39;00m validated_self:\n\u001b[32m    216\u001b[39m     warnings.warn(\n\u001b[32m    217\u001b[39m         \u001b[33m'\u001b[39m\u001b[33mA custom validator is returning a value other than `self`.\u001b[39m\u001b[38;5;130;01m\\n\u001b[39;00m\u001b[33m'\u001b[39m\n\u001b[32m    218\u001b[39m         \u001b[33m\"\u001b[39m\u001b[33mReturning anything other than `self` from a top level model validator isn\u001b[39m\u001b[33m'\u001b[39m\u001b[33mt supported when validating via `__init__`.\u001b[39m\u001b[38;5;130;01m\\n\u001b[39;00m\u001b[33m\"\u001b[39m\n\u001b[32m    219\u001b[39m         \u001b[33m'\u001b[39m\u001b[33mSee the `model_validator` docs (https://docs.pydantic.dev/latest/concepts/validators/#model-validators) for more details.\u001b[39m\u001b[33m'\u001b[39m,\n\u001b[32m    220\u001b[39m         stacklevel=\u001b[32m2\u001b[39m,\n\u001b[32m    221\u001b[39m     )\n",
      "\u001b[31mValidationError\u001b[39m: 1 validation error for ListItem\n  Value error, If payment_method is 'cash', order_status must be 'pending' [type=value_error, input_value={'customer': Customer(cus...rder_status': 'shipped'}, input_type=dict]\n    For further information visit https://errors.pydantic.dev/2.10/v/value_error"
     ]
    }
   ],
   "source": [
    "# This should raise a model validation error\n",
    "ListItem(\n",
    "    customer=Customer(\n",
    "        customer_first_name=\"Bob\",\n",
    "        customer_last_name=\"Smith\",\n",
    "        email=\"bob@example.com\",\n",
    "        mobile=9876543210,\n",
    "        address=AddressOfCustomer(\n",
    "            house_num=\"5A\",\n",
    "            street=\"Elm Street\",\n",
    "            city=\"Springwood\",\n",
    "            pincode=654321\n",
    "        )\n",
    "    ),\n",
    "    product_id=\"PRD002\",\n",
    "    quantity=2,\n",
    "    unit_price=99.99,\n",
    "    payment_method=\"cash\",\n",
    "    name_of_product=\"Backpack\",\n",
    "    order_status=\"shipped\"  # Invalid with CASH\n",
    ")\n"
   ]
  },
  {
   "cell_type": "code",
   "execution_count": null,
   "id": "dfee6cbc-8710-48ce-82fa-1ee6ad412064",
   "metadata": {},
   "outputs": [],
   "source": []
  },
  {
   "cell_type": "code",
   "execution_count": null,
   "id": "dc2d961f-734f-47a9-b335-c1bbdd0298eb",
   "metadata": {},
   "outputs": [],
   "source": []
  },
  {
   "cell_type": "code",
   "execution_count": null,
   "id": "a4ad5133-f017-4137-825a-1ab01fb9d6ee",
   "metadata": {},
   "outputs": [],
   "source": []
  },
  {
   "cell_type": "code",
   "execution_count": null,
   "id": "91a8fb50-3413-4a4a-9750-0f06b1003115",
   "metadata": {},
   "outputs": [],
   "source": []
  },
  {
   "cell_type": "code",
   "execution_count": null,
   "id": "692bd6ec-d3ae-4cc3-bdb9-b6b23c23414f",
   "metadata": {},
   "outputs": [],
   "source": []
  }
 ],
 "metadata": {
  "kernelspec": {
   "display_name": "Python 3 (ipykernel)",
   "language": "python",
   "name": "python3"
  },
  "language_info": {
   "codemirror_mode": {
    "name": "ipython",
    "version": 3
   },
   "file_extension": ".py",
   "mimetype": "text/x-python",
   "name": "python",
   "nbconvert_exporter": "python",
   "pygments_lexer": "ipython3",
   "version": "3.13.2"
  }
 },
 "nbformat": 4,
 "nbformat_minor": 5
}
