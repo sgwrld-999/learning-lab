{
 "cells": [
  {
   "cell_type": "markdown",
   "id": "c1b960ce-c1ee-4fdf-9618-472dada0379d",
   "metadata": {},
   "source": [
    "### What is `pathlib`?\n",
    "\n",
    "`pathlib` is a **standard Python module** that provides an **object-oriented interface** for handling filesystem paths.\n",
    "\n",
    "Instead of using strings to represent file and directory paths, `pathlib` uses **Path objects** that come with methods and operators to manipulate paths cleanly and intuitively.\n",
    "\n",
    "There are two major kinds of path classes in `pathlib`:\n",
    "\n",
    "* **Pure paths**: Used for manipulating path strings *without touching the filesystem*.\n",
    "* **Concrete paths**: Inherit from pure paths, but also support **I/O operations** like checking if a file exists, reading contents, etc.\n",
    "\n",
    "For most day-to-day use, the generic `Path` class (which becomes `PosixPath` or `WindowsPath` depending on your OS) is the recommended default.\n",
    "\n",
    "---\n",
    "\n",
    "### How is it different from `os.path`?\n",
    "\n",
    "`pathlib` is designed to replace `os.path` by offering:\n",
    "\n",
    "* **Object-oriented syntax** instead of function-based operations\n",
    "* **Operator overloading** for intuitive path joining (`Path / 'file.txt'`)\n",
    "* **Cleaner and more readable code**\n",
    "\n",
    "Here’s a quick comparison:\n",
    "\n",
    "| Task                 | Using `os.path`                   | Using `pathlib`             |\n",
    "| -------------------- | --------------------------------- | --------------------------- |\n",
    "| Join paths           | `os.path.join(\"a\", \"b\")`          | `Path(\"a\") / \"b\"`           |\n",
    "| Check if file exists | `os.path.exists(\"file.txt\")`      | `Path(\"file.txt\").exists()` |\n",
    "| Get file extension   | `os.path.splitext(\"file.txt\")[1]` | `Path(\"file.txt\").suffix`   |\n",
    "\n",
    "---\n",
    "\n",
    "### What is the difference between the OS and `pathlib`?\n",
    "\n",
    "This depends on what we mean by “the OS” in this context:\n",
    "\n",
    "* When we say **OS**, we usually mean the **operating system's filesystem**—which `pathlib` interacts with when using **concrete paths** like `Path`.\n",
    "\n",
    "* When we say **`os.path`**, we refer to the **older module** in Python used for path manipulation via string functions.\n",
    "\n",
    "`pathlib` differs in two key ways:\n",
    "\n",
    "1. It uses **objects and methods** rather than functions and strings.\n",
    "2. It **abstracts away platform differences** (e.g., using `/` works regardless of whether you're on Windows or Unix).\n",
    "\n",
    "Additionally, `pathlib` allows creating **pure paths**, which can model path logic **without talking to the OS at all**—something not easily done with `os.path`.\n",
    "\n",
    "---\n",
    "\n",
    "### In which scenario should I use `pathlib` and `os.path`?\n",
    "\n",
    "You should prefer `pathlib` in most modern Python code for its clarity, power, and cross-platform design.\n",
    "\n",
    "| Use Case                       | Prefer `pathlib` when…                                                            | Use `os.path` only if…                                           |\n",
    "| ------------------------------ | --------------------------------------------------------------------------------- | ---------------------------------------------------------------- |\n",
    "| General file path manipulation | You want clean, modern syntax with better readability                             | You're maintaining legacy code that already uses `os.path`       |\n",
    "| Cross-platform file logic      | You want the same code to run on Windows, Linux, macOS                            | You're using Python versions older than 3.4                      |\n",
    "| Testing path logic only        | You want to simulate paths without accessing the real filesystem (via pure paths) | You don’t need this scenario, or you're doing very simple checks |\n",
    "\n",
    "In summary:\n",
    "\n",
    "* Use `Path` for most filesystem-related code.\n",
    "* Use `PurePath` or its variants when you want to test or build paths without I/O.\n",
    "* Only fall back to `os.path` if you are working in an old codebase or have specific legacy constraints.\n"
   ]
  },
  {
   "cell_type": "code",
   "execution_count": 1,
   "id": "27e6b30a-0248-4a54-92fb-e4e48330a869",
   "metadata": {},
   "outputs": [
    {
     "name": "stdout",
     "output_type": "stream",
     "text": [
      "\u001b[33mWARNING: Package(s) not found: pathlib\u001b[0m\u001b[33m\n",
      "\u001b[0mNote: you may need to restart the kernel to use updated packages.\n"
     ]
    }
   ],
   "source": [
    "pip show pathlib"
   ]
  },
  {
   "cell_type": "code",
   "execution_count": 2,
   "id": "32651bbb-8352-428b-8718-0f289a35f6c2",
   "metadata": {},
   "outputs": [
    {
     "name": "stdout",
     "output_type": "stream",
     "text": [
      "Package                    Version\n",
      "-------------------------- --------------------\n",
      "absl-py                    2.3.1\n",
      "aiohappyeyeballs           2.6.1\n",
      "aiohttp                    3.12.14\n",
      "aiosignal                  1.4.0\n",
      "anaconda-anon-usage        0.7.1\n",
      "annotated-types            0.6.0\n",
      "antlr4-python3-runtime     4.9.3\n",
      "anyio                      4.7.0\n",
      "appnope                    0.1.4\n",
      "archspec                   0.2.3\n",
      "argon2-cffi                21.3.0\n",
      "argon2-cffi-bindings       21.2.0\n",
      "asttokens                  3.0.0\n",
      "astunparse                 1.6.3\n",
      "async-lru                  2.0.4\n",
      "attrs                      25.3.0\n",
      "babel                      2.16.0\n",
      "beautifulsoup4             4.12.3\n",
      "bleach                     6.2.0\n",
      "boltons                    24.1.0\n",
      "Brotli                     1.0.9\n",
      "certifi                    2025.6.15\n",
      "cffi                       1.17.1\n",
      "charset-normalizer         3.3.2\n",
      "click                      8.1.8\n",
      "comm                       0.2.1\n",
      "conda                      25.5.1\n",
      "conda-anaconda-telemetry   0.1.2\n",
      "conda-anaconda-tos         0.2.0\n",
      "conda-content-trust        0.2.0\n",
      "conda-libmamba-solver      25.4.0\n",
      "conda-package-handling     2.4.0\n",
      "conda_package_streaming    0.11.0\n",
      "contourpy                  1.3.2\n",
      "cryptography               44.0.3\n",
      "curl_cffi                  0.12.0\n",
      "cycler                     0.12.1\n",
      "debugpy                    1.8.11\n",
      "decorator                  5.1.1\n",
      "defusedxml                 0.7.1\n",
      "distro                     1.9.0\n",
      "executing                  0.8.3\n",
      "fastapi                    0.116.1\n",
      "fastjsonschema             2.20.0\n",
      "filelock                   3.18.0\n",
      "firecrawl-py               2.15.0\n",
      "flatbuffers                25.2.10\n",
      "flwr                       1.19.0\n",
      "fonttools                  4.59.0\n",
      "frozendict                 2.4.2\n",
      "frozenlist                 1.7.0\n",
      "fsspec                     2025.5.1\n",
      "gast                       0.6.0\n",
      "gmpy2                      2.2.1\n",
      "google-pasta               0.2.0\n",
      "grpcio                     1.73.1\n",
      "h11                        0.16.0\n",
      "h5py                       3.14.0\n",
      "httpcore                   1.0.9\n",
      "httpx                      0.28.1\n",
      "hydra-core                 1.3.2\n",
      "idna                       3.7\n",
      "iniconfig                  2.1.0\n",
      "ipykernel                  6.29.5\n",
      "ipython                    9.1.0\n",
      "ipython_pygments_lexers    1.1.1\n",
      "iterators                  0.0.2\n",
      "jedi                       0.19.2\n",
      "Jinja2                     3.1.6\n",
      "joblib                     1.5.1\n",
      "json5                      0.9.25\n",
      "jsonpatch                  1.33\n",
      "jsonpointer                2.1\n",
      "jsonschema                 4.23.0\n",
      "jsonschema-specifications  2023.7.1\n",
      "jupyter_client             8.6.3\n",
      "jupyter_core               5.8.1\n",
      "jupyter-events             0.12.0\n",
      "jupyter-lsp                2.2.5\n",
      "jupyter_server             2.16.0\n",
      "jupyter_server_terminals   0.5.3\n",
      "jupyterlab                 4.4.4\n",
      "jupyterlab_pygments        0.3.0\n",
      "jupyterlab_server          2.27.3\n",
      "keras-nightly              3.11.0.dev2025072604\n",
      "kiwisolver                 1.4.8\n",
      "libclang                   18.1.1\n",
      "libmambapy                 2.0.5\n",
      "loguru                     0.7.3\n",
      "Markdown                   3.8.2\n",
      "markdown-it-py             2.2.0\n",
      "MarkupSafe                 3.0.2\n",
      "matplotlib                 3.10.3\n",
      "matplotlib-inline          0.1.6\n",
      "mdurl                      0.1.0\n",
      "menuinst                   2.2.0\n",
      "mistune                    3.1.2\n",
      "ml_dtypes                  0.5.1\n",
      "mpmath                     1.3.0\n",
      "msgpack                    1.1.1\n",
      "multidict                  6.6.3\n",
      "multitasking               0.0.11\n",
      "namex                      0.1.0\n",
      "nbclient                   0.10.2\n",
      "nbconvert                  7.16.6\n",
      "nbformat                   5.10.4\n",
      "nest_asyncio               1.6.0\n",
      "networkx                   3.5\n",
      "newsapi-python             0.2.7\n",
      "nltk                       3.9.1\n",
      "notebook                   7.4.4\n",
      "notebook_shim              0.2.4\n",
      "numpy                      2.3.0\n",
      "oauthlib                   3.3.1\n",
      "omegaconf                  2.3.0\n",
      "opt_einsum                 3.4.0\n",
      "optree                     0.16.0\n",
      "overrides                  7.4.0\n",
      "packaging                  24.2\n",
      "pandas                     2.3.0\n",
      "pandocfilters              1.5.0\n",
      "parso                      0.8.4\n",
      "pathspec                   0.12.1\n",
      "peewee                     3.18.2\n",
      "pexpect                    4.9.0\n",
      "pillow                     11.2.1\n",
      "pip                        25.1\n",
      "platformdirs               4.3.7\n",
      "pluggy                     1.5.0\n",
      "praw                       7.8.1\n",
      "prawcore                   2.4.0\n",
      "prometheus_client          0.21.1\n",
      "prompt_toolkit             3.0.43\n",
      "propcache                  0.3.2\n",
      "protobuf                   6.31.1\n",
      "psutil                     5.9.0\n",
      "ptyprocess                 0.7.0\n",
      "pure-eval                  0.2.2\n",
      "pybind11                   2.13.6\n",
      "pybind11_global            2.13.6\n",
      "pycosat                    0.6.6\n",
      "pycparser                  2.21\n",
      "pycryptodome               3.23.0\n",
      "pydantic                   2.10.3\n",
      "pydantic_core              2.27.1\n",
      "Pygments                   2.19.1\n",
      "pyparsing                  3.2.3\n",
      "PySocks                    1.7.1\n",
      "pytest                     8.4.1\n",
      "python-dateutil            2.9.0.post0\n",
      "python-dotenv              1.1.1\n",
      "python-json-logger         3.2.1\n",
      "pytz                       2025.2\n",
      "PyYAML                     6.0.2\n",
      "pyzmq                      26.2.0\n",
      "ray                        2.47.1\n",
      "referencing                0.36.2\n",
      "regex                      2024.11.6\n",
      "requests                   2.32.3\n",
      "requests-oauthlib          2.0.0\n",
      "rfc3339_validator          0.1.4\n",
      "rfc3986_validator          0.1.1\n",
      "rich                       13.9.4\n",
      "rpds-py                    0.25.1\n",
      "ruamel.yaml                0.18.10\n",
      "ruamel.yaml.clib           0.2.12\n",
      "scikit-learn               1.7.0\n",
      "scipy                      1.16.0\n",
      "seaborn                    0.13.2\n",
      "Send2Trash                 1.8.2\n",
      "setuptools                 78.1.1\n",
      "shellingham                1.5.4\n",
      "six                        1.17.0\n",
      "sniffio                    1.3.0\n",
      "soupsieve                  2.5\n",
      "SQLAlchemy                 2.0.41\n",
      "stack-data                 0.2.0\n",
      "starlette                  0.47.1\n",
      "sympy                      1.14.0\n",
      "tb-nightly                 2.19.0a20250218\n",
      "tensorboard-data-server    0.7.2\n",
      "termcolor                  3.1.0\n",
      "terminado                  0.17.1\n",
      "textblob                   0.19.0\n",
      "tf_nightly                 2.21.0.dev20250722\n",
      "threadpoolctl              3.6.0\n",
      "tinycss2                   1.4.0\n",
      "tomli                      2.2.1\n",
      "tomli_w                    1.2.0\n",
      "torch                      2.7.1\n",
      "torchaudio                 2.7.1\n",
      "torchvision                0.22.0\n",
      "torchvision-extra-decoders 0.0.2\n",
      "tornado                    6.5.1\n",
      "tqdm                       4.67.1\n",
      "traitlets                  5.14.3\n",
      "truststore                 0.10.0\n",
      "tweepy                     4.16.0\n",
      "typer                      0.12.5\n",
      "typing_extensions          4.12.2\n",
      "tzdata                     2025.2\n",
      "update-checker             0.18.0\n",
      "urllib3                    2.3.0\n",
      "uvicorn                    0.35.0\n",
      "vaderSentiment             3.3.2\n",
      "wcwidth                    0.2.13\n",
      "webencodings               0.5.1\n",
      "websocket-client           1.8.0\n",
      "websockets                 15.0.1\n",
      "Werkzeug                   3.1.3\n",
      "wheel                      0.45.1\n",
      "wrapt                      1.17.2\n",
      "yarl                       1.20.1\n",
      "yfinance                   0.2.65\n",
      "zstandard                  0.23.0\n",
      "Note: you may need to restart the kernel to use updated packages.\n"
     ]
    }
   ],
   "source": [
    "pip list"
   ]
  },
  {
   "cell_type": "code",
   "execution_count": 3,
   "id": "d6a81828-f6cb-4de9-a634-216ee4541926",
   "metadata": {},
   "outputs": [
    {
     "name": "stdout",
     "output_type": "stream",
     "text": [
      "Collecting pathlib\n",
      "  Downloading pathlib-1.0.1-py3-none-any.whl.metadata (5.1 kB)\n",
      "Downloading pathlib-1.0.1-py3-none-any.whl (14 kB)\n",
      "Installing collected packages: pathlib\n",
      "Successfully installed pathlib-1.0.1\n",
      "Note: you may need to restart the kernel to use updated packages.\n"
     ]
    }
   ],
   "source": [
    "pip install pathlib"
   ]
  },
  {
   "cell_type": "code",
   "execution_count": 1,
   "id": "78746ad2-1658-4abc-93cf-29bad5399198",
   "metadata": {},
   "outputs": [
    {
     "name": "stdout",
     "output_type": "stream",
     "text": [
      "Name: pathlib\n",
      "Version: 1.0.1\n",
      "Summary: Object-oriented filesystem paths\n",
      "Home-page: https://pathlib.readthedocs.org/\n",
      "Author: Antoine Pitrou\n",
      "Author-email: solipsis@pitrou.net\n",
      "License: MIT License\n",
      "Location: /Users/siddhantgond/miniconda3/lib/python3.13/site-packages\n",
      "Requires: \n",
      "Required-by: \n",
      "Note: you may need to restart the kernel to use updated packages.\n"
     ]
    }
   ],
   "source": [
    "pip show pathlib"
   ]
  },
  {
   "cell_type": "code",
   "execution_count": 3,
   "id": "b4352753-78fb-4bd3-83d6-c0500546d963",
   "metadata": {},
   "outputs": [],
   "source": [
    "from pathlib import Path"
   ]
  },
  {
   "cell_type": "code",
   "execution_count": 11,
   "id": "5a6a2bef-1302-49d4-afd8-c982935f46c2",
   "metadata": {},
   "outputs": [],
   "source": [
    "p = Path(\"\")"
   ]
  },
  {
   "cell_type": "code",
   "execution_count": 12,
   "id": "fdbec3f6-c201-4953-ab90-05ddf6db965f",
   "metadata": {},
   "outputs": [
    {
     "data": {
      "text/plain": [
       "PosixPath('.')"
      ]
     },
     "execution_count": 12,
     "metadata": {},
     "output_type": "execute_result"
    }
   ],
   "source": [
    "p"
   ]
  },
  {
   "cell_type": "code",
   "execution_count": 21,
   "id": "bd4f721c-c562-4c76-beaf-64bc9c7c74ba",
   "metadata": {},
   "outputs": [
    {
     "name": "stdout",
     "output_type": "stream",
     "text": [
      "0\n",
      "True\n",
      "False\n",
      "1\n",
      "False\n",
      "True\n"
     ]
    }
   ],
   "source": [
    "# Link: https://docs.python.org/3/library/pathlib.html#reading-directories\n",
    "# \".\" ka matlah current directory\n",
    "j = 0\n",
    "for i in p.iterdir():\n",
    "    print(j)\n",
    "    print(i.is_dir()) # directory h ki nhi\n",
    "    print(i.is_file())# file h ki nhi\n",
    "    j += 1"
   ]
  },
  {
   "cell_type": "markdown",
   "id": "e8502b77-d687-4342-bd51-bfab1e9f3afb",
   "metadata": {},
   "source": [
    "Below is a table mapping various `os` / `os.path` functions to their corresponding `PurePath` / `Path` equivalents with usage examples.\n",
    "\n",
    "| os and os.path Usage                            | pathlib Usage                                      | Description / Use Case                                |\n",
    "|--------------------------------------------------|----------------------------------------------------|--------------------------------------------------------|\n",
    "| os.path.dirname(path)                           | Path(path).parent                                  | Get directory part of path                             |\n",
    "| os.path.basename(path)                          | Path(path).name                                    | Get file name part of path                             |\n",
    "| os.path.splitext(path)                          | Path(path).stem, Path(path).suffix                 | Split filename and extension                           |\n",
    "| os.path.join(a, b, ...)                         | Path(a).joinpath(b, ...)                           | Join multiple path components                          |\n",
    "| os.path.isabs(path)                             | Path(path).is_absolute()                           | Check if path is absolute                              |\n",
    "| os.path.relpath(path, start)                    | Path(path).relative_to(start)                      | Relative path from start [1]                           |\n",
    "| os.path.expanduser(path)                        | Path(path).expanduser()                            | Expand `~` to user home [2]                            |\n",
    "| os.path.realpath(path)                          | Path(path).resolve()                               | Get canonical path, resolving symlinks                 |\n",
    "| os.path.abspath(path)                           | Path(path).absolute()                              | Get absolute path [3]                                  |\n",
    "| os.path.exists(path)                            | Path(path).exists()                                | Check if path exists                                   |\n",
    "| os.path.isfile(path)                            | Path(path).is_file()                               | Check if path is a file                                |\n",
    "| os.path.isdir(path)                             | Path(path).is_dir()                                | Check if path is a directory                           |\n",
    "| os.path.islink(path)                            | Path(path).is_symlink()                            | Check if path is a symbolic link                       |\n",
    "| os.path.isjunction(path)                        | Path(path).is_junction()                           | Check if path is a junction (Windows)                 |\n",
    "| os.path.ismount(path)                           | Path(path).is_mount()                              | Check if path is a mount point                         |\n",
    "| os.path.samefile(path1, path2)                  | Path(path1).samefile(path2)                        | Check if two paths point to same file                  |\n",
    "| os.getcwd()                                     | Path.cwd()                                         | Get current working directory                          |\n",
    "| os.stat(path)                                   | Path(path).stat()                                  | Get stat info of path                                  |\n",
    "| os.lstat(path)                                  | Path(path).lstat()                                 | Like `stat()`, but doesn’t follow symlinks             |\n",
    "| os.listdir(path)                                | Path(path).iterdir()                               | Iterate directory entries                              |\n",
    "| os.walk(top)                                    | Path(top).walk()                                   | Recursively walk directory [4]                         |\n",
    "| os.mkdir(path) / os.makedirs(path)              | Path(path).mkdir(parents=True)                     | Create directory (with optional parents)               |\n",
    "| os.link(src, dst)                               | Path(dst).hardlink_to(src)                         | Create a hard link                                     |\n",
    "| os.symlink(src, dst)                            | Path(dst).symlink_to(src)                          | Create a symbolic link                                 |\n",
    "| os.readlink(path)                               | Path(path).readlink()                              | Read destination of a symbolic link                    |\n",
    "| os.rename(src, dst)                             | Path(src).rename(dst)                              | Rename file or directory                               |\n",
    "| os.replace(src, dst)                            | Path(src).replace(dst)                             | Rename with overwrite                                  |\n",
    "| os.remove(path) / os.unlink(path)               | Path(path).unlink()                                | Remove a file                                          |\n",
    "| os.rmdir(path)                                  | Path(path).rmdir()                                 | Remove an empty directory                              |\n",
    "| os.chmod(path, mode)                            | Path(path).chmod(mode)                             | Change file permissions                                |\n",
    "| os.lchmod(path, mode)                           | Path(path).lchmod(mode)                            | Change permissions without following symlink           |\n"
   ]
  },
  {
   "cell_type": "code",
   "execution_count": 29,
   "id": "b5fa5ecb-24d2-4a64-bad6-8732dbe9d4db",
   "metadata": {},
   "outputs": [
    {
     "name": "stdout",
     "output_type": "stream",
     "text": [
      "0\n",
      "True\n",
      "False\n",
      ".ipynb_checkpoints\n",
      "\n",
      "1\n",
      "False\n",
      "True\n",
      "pathlib\n",
      ".ipynb\n"
     ]
    }
   ],
   "source": [
    "# Link: https://docs.python.org/3/library/pathlib.html#reading-directories\n",
    "# \".\" ka matlah current directory\n",
    "j = 0\n",
    "for i in p.iterdir():\n",
    "    print(j)\n",
    "    print(i.is_dir()) # directory h ki nhi\n",
    "    print(i.is_file())# file h ki nhi\n",
    "    j += 1\n",
    "    print(i.stem) #\n",
    "    print(i.suffix)"
   ]
  },
  {
   "cell_type": "code",
   "execution_count": 31,
   "id": "67edb2af-024b-4132-8a4b-baf0c1e83e59",
   "metadata": {},
   "outputs": [
    {
     "data": {
      "text/plain": [
       "PosixPath('/Users/siddhantgond/Desktop/Github_Modules/learning-lab/Pathlib')"
      ]
     },
     "execution_count": 31,
     "metadata": {},
     "output_type": "execute_result"
    }
   ],
   "source": [
    "p.cwd() #printing the current directory"
   ]
  },
  {
   "cell_type": "code",
   "execution_count": 33,
   "id": "61a42d49-6398-4786-8494-02d825cb770b",
   "metadata": {},
   "outputs": [
    {
     "data": {
      "text/plain": [
       "<map at 0x10a8822f0>"
      ]
     },
     "execution_count": 33,
     "metadata": {},
     "output_type": "execute_result"
    }
   ],
   "source": [
    "p.iterdir()"
   ]
  },
  {
   "cell_type": "code",
   "execution_count": 39,
   "id": "ebce12a3-32ed-4a50-aaad-4516b50d2781",
   "metadata": {},
   "outputs": [
    {
     "name": "stdout",
     "output_type": "stream",
     "text": [
      "iteration num- 0\n",
      ".ipynb_checkpoints\n",
      ".ipynb_checkpoints\n",
      "\n",
      "iteration num- 1\n",
      "temp2.txt\n",
      "temp2\n",
      ".txt\n",
      "iteration num- 2\n",
      "temp3.txt\n",
      "temp3\n",
      ".txt\n",
      "iteration num- 3\n",
      "temp1.txt\n",
      "temp1\n",
      ".txt\n",
      "iteration num- 4\n",
      "pathlib.ipynb\n",
      "pathlib\n",
      ".ipynb\n"
     ]
    }
   ],
   "source": [
    "num = 0\n",
    "for i in p.iterdir():\n",
    "    print(\"iteration num-\", num)\n",
    "    print(i.name)\n",
    "    print(i.stem)\n",
    "    print(i.suffix)\n",
    "    num+=1\n"
   ]
  },
  {
   "cell_type": "code",
   "execution_count": 40,
   "id": "2203cb11-2da1-4b1d-9f7b-cfa3fce11024",
   "metadata": {},
   "outputs": [
    {
     "name": "stdout",
     "output_type": "stream",
     "text": [
      "iteration num- 0\n",
      "iteration num- 1\n",
      "temp2.txt\n",
      "temp2\n",
      ".txt\n",
      "iteration num- 2\n",
      "temp3.txt\n",
      "temp3\n",
      ".txt\n",
      "iteration num- 3\n",
      "temp1.txt\n",
      "temp1\n",
      ".txt\n",
      "iteration num- 4\n",
      "pathlib.ipynb\n",
      "pathlib\n",
      ".ipynb\n"
     ]
    }
   ],
   "source": [
    "num = 0\n",
    "for i in p.iterdir():\n",
    "    print(\"iteration num-\", num)\n",
    "    if i.is_file():\n",
    "        print(i.name)\n",
    "        print(i.stem)\n",
    "        print(i.suffix)\n",
    "    num+=1"
   ]
  },
  {
   "cell_type": "code",
   "execution_count": 48,
   "id": "69044883-4f53-4d2c-95af-6080008157e8",
   "metadata": {},
   "outputs": [
    {
     "name": "stdout",
     "output_type": "stream",
     "text": [
      "iteration num- 0\n",
      "iteration num- 1\n",
      "iteration num- 2\n",
      "iteration num- 3\n",
      "iteration num- 4\n",
      "iteration num- 5\n",
      "pathlib.ipynb is a jupyter notebook .ipynb\n"
     ]
    }
   ],
   "source": [
    "num = 0\n",
    "for i in p.iterdir():\n",
    "    print(\"iteration num-\", num)\n",
    "    if i.is_file():\n",
    "        if i.suffix == \".ipynb\":\n",
    "            print(i.name,\"is a jupyter notebook\",i.suffix)\n",
    "    num+=1"
   ]
  },
  {
   "cell_type": "markdown",
   "id": "64fff4c8-529c-4821-a4f7-6a2fd7115564",
   "metadata": {},
   "source": [
    "## ✅ OVERVIEW: What `pathlib` Is Doing Across the Codebase\n",
    "\n",
    "| Category                           | Key `pathlib` Features Involved                             | Used For                                             |\n",
    "| ---------------------------------- | ----------------------------------------------------------- | ---------------------------------------------------- |\n",
    "| **Filepath Manipulation**          | `Path(__file__).parent`, `/` operator                       | Current directory logic, constructing internal paths |\n",
    "| **File Existence Check**           | `.exists()`, `.is_file()`, `.is_dir()`                      | Validation of datasets, configs, and outputs         |\n",
    "| **Temporary File Handling**        | `Path().with_suffix()`, `Path().unlink()`, `Path().touch()` | Creating, naming, cleaning temp DB/files             |\n",
    "| **Test File Paths**                | `Path.resolve()`, `sys.path.append(str(...))`               | Adding root dir to Python path                       |\n",
    "| **Configuration File Paths**       | `Path.cwd()`, `Path(__file__)`                              | Locating config files relative to script             |\n",
    "| **Dynamic Path Construction**      | Chaining with `/`, `.parent`, `.name`, `.with_name()`       | Dynamically building file paths                      |\n",
    "| **Temporary Directory Management** | `mkdir()`, `rmdir()`, `.exists()`                           | Creating/removing test directories                   |\n",
    "| **File Listing**                   | `.iterdir()`, `.glob('*.py')`, `.name`                      | Looping over test scripts, filtering by extension    |\n",
    "| **Dynamic Path Addition**          | `.resolve().parent.parent`, `sys.path.append()`             | Modifying `sys.path` for local imports               |\n",
    "\n",
    "---\n",
    "\n",
    "## 🔍 FUNCTIONS, PROPERTIES, AND OPERATORS USED\n",
    "\n",
    "Here's a full breakdown of **methods and properties** likely used in this codebase:\n",
    "\n",
    "| Feature / Method            | What It Does                                                |\n",
    "| --------------------------- | ----------------------------------------------------------- |\n",
    "| `Path(__file__)`            | Gets path of the current file                               |\n",
    "| `.parent`                   | Gets the parent directory of the path                       |\n",
    "| `/`                         | Joins paths elegantly (\\`Path(\"a\") / \"b\" → a/b)             |\n",
    "| `.resolve()`                | Returns the absolute path                                   |\n",
    "| `.exists()`                 | Checks whether a file/folder exists                         |\n",
    "| `.is_file()`                | True if path is a regular file                              |\n",
    "| `.is_dir()`                 | True if path is a directory                                 |\n",
    "| `.with_suffix('.db')`       | Changes file extension dynamically                          |\n",
    "| `.with_name('other.txt')`   | Changes filename but keeps location                         |\n",
    "| `.touch()`                  | Creates an empty file                                       |\n",
    "| `.unlink()`                 | Deletes a file                                              |\n",
    "| `.mkdir()`                  | Creates a directory                                         |\n",
    "| `.rmdir()`                  | Deletes an empty directory                                  |\n",
    "| `.iterdir()`                | Lists all immediate contents of a directory                 |\n",
    "| `.glob('*.py')`             | Lists files matching pattern (e.g., all `.py` files)        |\n",
    "| `.name`, `.stem`, `.suffix` | Access file name parts (full, without extension, extension) |\n",
    "\n"
   ]
  },
  {
   "cell_type": "code",
   "execution_count": 50,
   "id": "cba944b2-f3be-4336-a076-d5c994e6cf56",
   "metadata": {},
   "outputs": [
    {
     "ename": "NameError",
     "evalue": "name '__file__' is not defined",
     "output_type": "error",
     "traceback": [
      "\u001b[31m---------------------------------------------------------------------------\u001b[39m",
      "\u001b[31mNameError\u001b[39m                                 Traceback (most recent call last)",
      "\u001b[36mCell\u001b[39m\u001b[36m \u001b[39m\u001b[32mIn[50]\u001b[39m\u001b[32m, line 1\u001b[39m\n\u001b[32m----> \u001b[39m\u001b[32m1\u001b[39m \u001b[38;5;28mprint\u001b[39m(Path(\u001b[34m__file__\u001b[39m))\n",
      "\u001b[31mNameError\u001b[39m: name '__file__' is not defined"
     ]
    }
   ],
   "source": [
    "print(Path(__file__))"
   ]
  },
  {
   "cell_type": "code",
   "execution_count": 51,
   "id": "a9965512-f4a9-4de1-b886-4dd38268886d",
   "metadata": {},
   "outputs": [
    {
     "ename": "NameError",
     "evalue": "name '__file__' is not defined",
     "output_type": "error",
     "traceback": [
      "\u001b[31m---------------------------------------------------------------------------\u001b[39m",
      "\u001b[31mNameError\u001b[39m                                 Traceback (most recent call last)",
      "\u001b[36mCell\u001b[39m\u001b[36m \u001b[39m\u001b[32mIn[51]\u001b[39m\u001b[32m, line 3\u001b[39m\n\u001b[32m      1\u001b[39m \u001b[38;5;28;01mfrom\u001b[39;00m\u001b[38;5;250m \u001b[39m\u001b[34;01mpathlib\u001b[39;00m\u001b[38;5;250m \u001b[39m\u001b[38;5;28;01mimport\u001b[39;00m Path\n\u001b[32m----> \u001b[39m\u001b[32m3\u001b[39m \u001b[38;5;28mprint\u001b[39m(Path(\u001b[34m__file__\u001b[39m))\n",
      "\u001b[31mNameError\u001b[39m: name '__file__' is not defined"
     ]
    }
   ],
   "source": [
    "from pathlib import Path\n",
    "\n",
    "print(Path(__file__))\n"
   ]
  },
  {
   "cell_type": "code",
   "execution_count": 52,
   "id": "ff872bfa-b0be-41cc-ae26-5b1c83cca28f",
   "metadata": {},
   "outputs": [
    {
     "ename": "NameError",
     "evalue": "name '__file__' is not defined",
     "output_type": "error",
     "traceback": [
      "\u001b[31m---------------------------------------------------------------------------\u001b[39m",
      "\u001b[31mNameError\u001b[39m                                 Traceback (most recent call last)",
      "\u001b[36mCell\u001b[39m\u001b[36m \u001b[39m\u001b[32mIn[52]\u001b[39m\u001b[32m, line 1\u001b[39m\n\u001b[32m----> \u001b[39m\u001b[32m1\u001b[39m \u001b[38;5;28mprint\u001b[39m(Path(\u001b[34m__file__\u001b[39m).resolve())\n",
      "\u001b[31mNameError\u001b[39m: name '__file__' is not defined"
     ]
    }
   ],
   "source": [
    "print(Path(__file__).resolve())  # full path to the script\n"
   ]
  },
  {
   "cell_type": "markdown",
   "id": "b0e7c100-bd6d-421e-943d-951bf745e403",
   "metadata": {},
   "source": [
    "✅ __file__ — When It Works\n",
    "It works in:\n",
    "\n",
    "Plain .py scripts\n",
    "\n",
    "Modules imported from files\n",
    "\n",
    "Unit test files (pytest, unittest, etc.)\n",
    "\n"
   ]
  },
  {
   "cell_type": "code",
   "execution_count": 54,
   "id": "643034cf-a9e4-4cdf-9a4e-a82f0bd8dbd8",
   "metadata": {},
   "outputs": [
    {
     "name": "stdout",
     "output_type": "stream",
     "text": [
      ".\n"
     ]
    }
   ],
   "source": [
    "print(p.parent)"
   ]
  },
  {
   "cell_type": "code",
   "execution_count": 57,
   "id": "e98c079b-925d-4752-a933-1a4a07bbfac0",
   "metadata": {},
   "outputs": [
    {
     "name": "stdout",
     "output_type": "stream",
     "text": [
      "/Users/siddhantgond/Desktop/Github_Modules/learning-lab/Pathlib\n"
     ]
    }
   ],
   "source": [
    "print(p.cwd())"
   ]
  },
  {
   "cell_type": "code",
   "execution_count": 58,
   "id": "0f0619fd-eded-4d18-a458-17edddf4ef5c",
   "metadata": {},
   "outputs": [
    {
     "name": "stdout",
     "output_type": "stream",
     "text": [
      "Current dir  : /Users/siddhantgond/Desktop/Github_Modules/learning-lab/Pathlib\n",
      "Parent dir   : /Users/siddhantgond/Desktop/Github_Modules/learning-lab\n"
     ]
    }
   ],
   "source": [
    "from pathlib import Path\n",
    "\n",
    "p = Path.cwd()\n",
    "print(\"Current dir  :\", p)\n",
    "print(\"Parent dir   :\", p.parent)\n"
   ]
  },
  {
   "cell_type": "code",
   "execution_count": 60,
   "id": "12491e51-7a45-4421-b1ca-37a59cd0075c",
   "metadata": {},
   "outputs": [
    {
     "name": "stdout",
     "output_type": "stream",
     "text": [
      "Current dir  : .\n",
      "Parent dir   : .\n"
     ]
    }
   ],
   "source": [
    "path = Path()\n",
    "print(\"Current dir  :\", path)\n",
    "print(\"Parent dir   :\", path.parent)\n"
   ]
  },
  {
   "cell_type": "markdown",
   "id": "784bb8fe-08c0-454d-a742-98240e681b05",
   "metadata": {},
   "source": [
    "Excellent observation — and you're now diving into the **core difference between relative and absolute paths**. Let's break it down precisely:\n",
    "\n",
    "---\n",
    "\n",
    "### ✅ The Key Difference\n",
    "\n",
    "| Your Code                      | My Code                           |\n",
    "| ------------------------------ | --------------------------------- |\n",
    "| `path = Path()` or `Path('.')` | `path = Path.cwd()`               |\n",
    "| Relative path                  | Absolute path                     |\n",
    "| Represents \"current location\"  | Gives **full path** to cwd        |\n",
    "| `path.parent` → `\".\"`          | `path.parent` → actual parent dir |\n",
    "\n",
    "---\n",
    "\n",
    "### 🔍 Why does your version give `\".\"`?\n",
    "\n",
    "Let’s inspect it line-by-line:\n",
    "\n",
    "```python\n",
    "from pathlib import Path\n",
    "path = Path()\n",
    "```\n",
    "\n",
    "> This is **equivalent** to:\n",
    "> `path = Path('.')`\n",
    "> …which just means “the current folder”, **but as a relative path**.\n",
    "\n",
    "```python\n",
    "print(\"Current dir:\", path)       # → prints \".\"\n",
    "print(\"Parent dir:\", path.parent) # → also prints \".\"\n",
    "```\n",
    "\n",
    "Why? Because in relative terms:\n",
    "\n",
    "* `\".\"` is *this folder*\n",
    "* Its *parent*, if you're not resolving the full path, is still `\".\"` (no movement, nothing to go up from)\n",
    "\n",
    "---\n",
    "\n",
    "### ✅ Why mine gives full path?\n",
    "\n",
    "```python\n",
    "p = Path.cwd()\n",
    "```\n",
    "\n",
    "That resolves to:\n",
    "\n",
    "```bash\n",
    "/Users/siddhantgond/Desktop/Github_Modules/learning-lab/Pathlib\n",
    "```\n",
    "\n",
    "Which is an **absolute path**, so `.parent` actually has somewhere to go:\n",
    "\n",
    "```bash\n",
    "Parent → /Users/siddhantgond/Desktop/Github_Modules/learning-lab\n",
    "```\n",
    "\n",
    "---\n",
    "\n",
    "### 🧠 Analogy\n",
    "\n",
    "* `Path('.')` is like saying: \"Hey, I’m in the current room, what’s my parent?\"\n",
    "  → But you never specified **where** this room is in the house.\n",
    "  → So it replies: \"Still this room... I don’t know where to go.\"\n",
    "\n",
    "* `Path.cwd()` is like saying: \"I’m in **Room 4, on Floor 2, in House A**\"\n",
    "  → So when you say `.parent`, it knows: \"Floor 2 is my parent!\"\n",
    "\n",
    "---\n",
    "\n",
    "### 🔧 Your Practice Task\n",
    "\n",
    "Try this:\n",
    "\n",
    "```python\n",
    "from pathlib import Path\n",
    "\n",
    "path = Path()\n",
    "print(\"RELATIVE:\", path)\n",
    "print(\"RELATIVE parent:\", path.parent)\n",
    "\n",
    "abs_path = path.resolve()\n",
    "print(\"ABSOLUTE:\", abs_path)\n",
    "print(\"ABSOLUTE parent:\", abs_path.parent)\n",
    "```\n",
    "\n",
    "Now observe the difference between the two approaches — and explain it to me in your own words. Let's build from there.\n"
   ]
  },
  {
   "cell_type": "code",
   "execution_count": 62,
   "id": "a1a4b952-4cac-469a-89ba-1830f41827cb",
   "metadata": {},
   "outputs": [
    {
     "name": "stdout",
     "output_type": "stream",
     "text": [
      "/Users/siddhantgond/Desktop/Github_Modules/learning-lab/Pathlib\n"
     ]
    }
   ],
   "source": [
    "path = Path.cwd()\n",
    "\n",
    "print(path)"
   ]
  },
  {
   "cell_type": "code",
   "execution_count": 64,
   "id": "409fbfe7-a380-4010-bc9b-406b0fcb2aac",
   "metadata": {},
   "outputs": [
    {
     "name": "stdout",
     "output_type": "stream",
     "text": [
      "folderForCheck is a directory\n",
      ".ipynb_checkpoints is a directory\n",
      "temp2 is a file, with extension of .txt\n",
      "temp3 is a file, with extension of .txt\n",
      "temp1 is a file, with extension of .txt\n",
      "pathlib is a file, with extension of .ipynb\n"
     ]
    }
   ],
   "source": [
    "path = Path.cwd()\n",
    "\n",
    "for p in path.iterdir():\n",
    "    if p.is_dir():\n",
    "            print(p.stem,\"is a directory\")\n",
    "    else:\n",
    "        print(p.stem,\"is a file, with extension of\", p.suffix)"
   ]
  },
  {
   "cell_type": "code",
   "execution_count": 65,
   "id": "a92cb92a-a969-4650-9b8b-202980901c2f",
   "metadata": {},
   "outputs": [
    {
     "name": "stdout",
     "output_type": "stream",
     "text": [
      "folderForCheck is a directory\n",
      "Path /Users/siddhantgond/Desktop/Github_Modules/learning-lab/Pathlib\n",
      ".ipynb_checkpoints is a directory\n",
      "Path /Users/siddhantgond/Desktop/Github_Modules/learning-lab/Pathlib\n",
      "temp2 is a file, with extension of .txt\n",
      "Path /Users/siddhantgond/Desktop/Github_Modules/learning-lab/Pathlib\n",
      "temp3 is a file, with extension of .txt\n",
      "Path /Users/siddhantgond/Desktop/Github_Modules/learning-lab/Pathlib\n",
      "temp1 is a file, with extension of .txt\n",
      "Path /Users/siddhantgond/Desktop/Github_Modules/learning-lab/Pathlib\n",
      "pathlib is a file, with extension of .ipynb\n",
      "Path /Users/siddhantgond/Desktop/Github_Modules/learning-lab/Pathlib\n"
     ]
    }
   ],
   "source": [
    "path = Path.cwd()\n",
    "\n",
    "for p in path.iterdir():\n",
    "    if p.is_dir():\n",
    "            print(p.stem,\"is a directory\")\n",
    "            print(\"Path\",p.cwd())\n",
    "    else:\n",
    "        print(p.stem,\"is a file, with extension of\", p.suffix)\n",
    "        print(\"Path\",p.cwd())"
   ]
  },
  {
   "cell_type": "markdown",
   "id": "958d7b8d-f669-4d48-954a-0abd91f5f567",
   "metadata": {},
   "source": [
    "### 📌 What does the `/` operator do in `pathlib`?\n",
    "\n",
    "In `pathlib`, the `/` operator is **overloaded** to mean:\n",
    "\n",
    "> **Join paths together** in an OS-agnostic, clean way.\n",
    "\n",
    "This is not division like in maths — it's a custom behaviour defined for `Path` objects.\n",
    "\n",
    "---\n",
    "\n",
    "### 🧠 Think of it like this:\n",
    "\n",
    "```python\n",
    "Path(\"a\") / \"b\" / \"c\"  →  Path(\"a/b/c\")\n",
    "```\n",
    "\n",
    "It chains folders and files into a proper path.\n",
    "This works correctly on **Windows**, **Linux**, and **macOS** — without worrying about `\\` or `/`.\n",
    "\n",
    "---\n",
    "\n",
    "### 🔍 Comparison with `os.path.join`\n",
    "\n",
    "#### Traditional way (using `os.path`):\n",
    "\n",
    "```python\n",
    "import os\n",
    "os.path.join(\"a\", \"b\", \"c\")   # Returns \"a/b/c\" or \"a\\b\\c\"\n",
    "```\n",
    "\n",
    "#### Modern way (using `pathlib`):\n",
    "\n",
    "```python\n",
    "from pathlib import Path\n",
    "Path(\"a\") / \"b\" / \"c\"         # Returns Path(\"a/b/c\")\n",
    "```\n",
    "\n",
    "Cleaner, shorter, and more readable.\n",
    "\n",
    "---\n",
    "\n",
    "### 📦 Real Use Case\n",
    "\n",
    "Let’s say your working directory is:\n",
    "\n",
    "```python\n",
    "project/\n",
    "│\n",
    "├── data/\n",
    "│   └── dataset.csv\n",
    "```\n",
    "\n",
    "You can build the path to the file like this:\n",
    "\n",
    "```python\n",
    "data_dir = Path(\"data\")\n",
    "csv_path = data_dir / \"dataset.csv\"\n",
    "```\n",
    "\n",
    "Now `csv_path` becomes:\n",
    "\n",
    "```python\n",
    "Path(\"data/dataset.csv\")\n",
    "```\n",
    "\n",
    "---\n",
    "\n",
    "### ✅ Task for You\n",
    "\n",
    "> Given your current working directory from earlier:\n",
    "\n",
    "```\n",
    "/Users/siddhantgond/Desktop/Github_Modules/learning-lab/Pathlib\n",
    "```\n",
    "\n",
    "Try to:\n",
    "\n",
    "1. Set that path using `Path.cwd()`\n",
    "2. Use `/` to join a hypothetical file: `\"my_notes.txt\"`\n",
    "3. Print the full path.\n",
    "\n",
    "Tell me what code you’ll write, but **don’t run it yet** — I want to check your reasoning first.\n"
   ]
  },
  {
   "cell_type": "markdown",
   "id": "25824027-39bb-49de-986a-14a03a2d72c3",
   "metadata": {},
   "source": [
    "Question:\n",
    "Now, I get it if I'm in the directory, let's say folder \"Project\", and in the project folder, there is a temp folder. So, without leaving that directory, I can change the path to Project/temp?\n",
    "\n",
    "**Exactly right.**\n",
    "\n",
    "You're thinking in the right direction — let’s make it absolutely clear with your example.\n",
    "\n",
    "---\n",
    "\n",
    "### 🧱 Suppose:\n",
    "\n",
    "You are currently **inside this directory**:\n",
    "\n",
    "```\n",
    "/Users/siddhantgond/Desktop/Project\n",
    "```\n",
    "\n",
    "And inside `Project`, you have a folder called `temp`.\n",
    "\n",
    "---\n",
    "\n",
    "### 🔹 If you do:\n",
    "\n",
    "```python\n",
    "from pathlib import Path\n",
    "\n",
    "base = Path.cwd()               # /Users/siddhantgond/Desktop/Project\n",
    "temp_path = base / \"temp\"       # This builds /Users/siddhantgond/Desktop/Project/temp\n",
    "```\n",
    "\n",
    "✅ You now have a `Path` object pointing to the `temp` directory, without moving your code anywhere.\n",
    "\n",
    "You're not \"going into\" the folder — you're just pointing to it.\n",
    "\n",
    "---\n",
    "\n",
    "### 🔹 And to go deeper?\n",
    "\n",
    "```python\n",
    "log_path = temp_path / \"logs\" / \"output.txt\"\n",
    "```\n",
    "\n",
    "Now you've built:\n",
    "\n",
    "```\n",
    "/Users/siddhantgond/Desktop/Project/temp/logs/output.txt\n",
    "```\n",
    "\n",
    "Still without changing your working directory or executing any shell commands.\n",
    "\n",
    "---\n",
    "\n",
    "### 🔍 Summary:\n",
    "\n",
    "* You **stay in Project**\n",
    "* You **build any path** relative to it using `/`\n",
    "* The filesystem isn’t affected — only the path object is created\n",
    "\n",
    "---\n",
    "\n",
    "Would you like to try this on your local `Pathlib` directory and construct a few levels? I can review it if you paste your trial.\n"
   ]
  },
  {
   "cell_type": "code",
   "execution_count": 71,
   "id": "ea328684-477a-4117-98a5-663a963ee8b1",
   "metadata": {},
   "outputs": [],
   "source": [
    "path = Path.cwd()\n",
    "\n",
    "path = path / \"folderForCheck\" "
   ]
  },
  {
   "cell_type": "code",
   "execution_count": 72,
   "id": "003ffc96-ba30-481a-8762-4e8ec1c21dd7",
   "metadata": {},
   "outputs": [
    {
     "data": {
      "text/plain": [
       "PosixPath('/Users/siddhantgond/Desktop/Github_Modules/learning-lab/Pathlib/folderForCheck')"
      ]
     },
     "execution_count": 72,
     "metadata": {},
     "output_type": "execute_result"
    }
   ],
   "source": [
    "path"
   ]
  },
  {
   "cell_type": "code",
   "execution_count": 74,
   "id": "7a9366bf-079d-4e74-a0dc-96f68354cc36",
   "metadata": {},
   "outputs": [],
   "source": [
    "path = Path.cwd()\n",
    "\n",
    "path = path / \"folderForCheck\" / \"temp.py\""
   ]
  },
  {
   "cell_type": "code",
   "execution_count": 75,
   "id": "bb827f8b-33f1-406d-a229-2f7fb52b7e2e",
   "metadata": {},
   "outputs": [
    {
     "data": {
      "text/plain": [
       "PosixPath('/Users/siddhantgond/Desktop/Github_Modules/learning-lab/Pathlib/folderForCheck/temp.py')"
      ]
     },
     "execution_count": 75,
     "metadata": {},
     "output_type": "execute_result"
    }
   ],
   "source": [
    "path"
   ]
  },
  {
   "cell_type": "markdown",
   "id": "4509199a-2434-4dcc-94e9-9c59b2c693bb",
   "metadata": {},
   "source": [
    "text file wasn't created because it's a relative path"
   ]
  },
  {
   "cell_type": "markdown",
   "id": "09e595e7-5a78-44f7-8844-d47b55d936f9",
   "metadata": {},
   "source": [
    "### ✅ **What `.resolve()` Does**\n",
    "\n",
    "`.resolve()` returns the **absolute path** of a `Path` object — even if the path was initially **relative** or included `..`, `.` or symbolic links.\n",
    "\n",
    "---\n",
    "\n",
    "### 🔹 Example 1: From a relative path\n",
    "\n",
    "```python\n",
    "from pathlib import Path\n",
    "\n",
    "p = Path(\"temp\")          # relative path\n",
    "print(p.resolve())\n",
    "```\n",
    "\n",
    "📌 Output (example):\n",
    "\n",
    "```\n",
    "/Users/siddhantgond/Desktop/Project/temp\n",
    "```\n",
    "\n",
    "Even though `\"temp\"` is a relative path, `.resolve()` gives you the **full absolute path**.\n",
    "\n",
    "---\n",
    "\n",
    "### 🔹 Example 2: With `.` or `..`\n",
    "\n",
    "```python\n",
    "p = Path(\"..\")            # one level up from current dir\n",
    "print(p.resolve())\n",
    "```\n",
    "\n",
    "📌 Output:\n",
    "\n",
    "```\n",
    "/Users/siddhantgond/Desktop\n",
    "```\n",
    "\n",
    "`.resolve()` cleans up:\n",
    "\n",
    "* `.` (current directory)\n",
    "* `..` (parent directory)\n",
    "* symbolic links (if any)\n",
    "\n",
    "---\n",
    "\n",
    "### 🔹 Summary Table:\n",
    "\n",
    "| Code                     | Result                                      |\n",
    "| ------------------------ | ------------------------------------------- |\n",
    "| `Path(\"temp\")`           | `'temp'` (relative path object)             |\n",
    "| `Path(\"temp\").resolve()` | `'/full/path/to/temp'` (absolute, resolved) |\n",
    "| `Path(\"..\").resolve()`   | `'/path/to/parent'`                         |\n",
    "\n",
    "---\n",
    "\n",
    "### 🎯 When to use it?\n",
    "\n",
    "* You want the **full, clean path** to a file or folder.\n",
    "* You need to **compare** two paths — always resolve both to be sure.\n",
    "* You want to work with symlinks, but use the **real path** behind them.\n",
    "\n"
   ]
  },
  {
   "cell_type": "code",
   "execution_count": 77,
   "id": "1aae9053-14ba-4c6b-a945-dcf60f847bee",
   "metadata": {},
   "outputs": [],
   "source": [
    "path = Path(\".\")"
   ]
  },
  {
   "cell_type": "code",
   "execution_count": 78,
   "id": "8e56a752-f4a0-41d1-9a34-5a13e0ef6944",
   "metadata": {},
   "outputs": [
    {
     "data": {
      "text/plain": [
       "PosixPath('.')"
      ]
     },
     "execution_count": 78,
     "metadata": {},
     "output_type": "execute_result"
    }
   ],
   "source": [
    "path"
   ]
  },
  {
   "cell_type": "code",
   "execution_count": 79,
   "id": "35e38bfb-b460-49d5-9a5d-f58cf619c190",
   "metadata": {},
   "outputs": [
    {
     "data": {
      "text/plain": [
       "PosixPath('/Users/siddhantgond/Desktop/Github_Modules/learning-lab/Pathlib')"
      ]
     },
     "execution_count": 79,
     "metadata": {},
     "output_type": "execute_result"
    }
   ],
   "source": [
    "path.resolve()"
   ]
  },
  {
   "cell_type": "code",
   "execution_count": 80,
   "id": "a5e3c7f9-ff7a-4bc3-ac4c-6d6bcfac2c79",
   "metadata": {},
   "outputs": [],
   "source": [
    "path = Path(\"..\")"
   ]
  },
  {
   "cell_type": "code",
   "execution_count": 82,
   "id": "c2511f2c-1475-4abc-9a2d-50974249d09e",
   "metadata": {},
   "outputs": [
    {
     "data": {
      "text/plain": [
       "PosixPath('/Users/siddhantgond/Desktop/Github_Modules/learning-lab')"
      ]
     },
     "execution_count": 82,
     "metadata": {},
     "output_type": "execute_result"
    }
   ],
   "source": [
    "path.resolve()"
   ]
  },
  {
   "cell_type": "markdown",
   "id": "5d0166e6-8c8a-4640-afbd-74f031528bdf",
   "metadata": {},
   "source": [
    "So, it change the variable from holding the relative path to absolute path\n",
    "\n",
    "Exactly — that's the **key idea**. Here's the precise distinction:\n",
    "\n",
    "---\n",
    "\n",
    "### ✅ Yes: `.resolve()` **returns** an absolute path\n",
    "\n",
    "But let’s get the behaviour **exactly right**:\n",
    "\n",
    "### 🧠 It does **not** change the original variable — unless you reassign it.\n",
    "\n",
    "---\n",
    "\n",
    "### 🔹 Example:\n",
    "\n",
    "```python\n",
    "from pathlib import Path\n",
    "\n",
    "p = Path(\"temp\")\n",
    "print(p)                # → temp          (relative path)\n",
    "print(p.resolve())      # → /full/path/to/temp (absolute)\n",
    "```\n",
    "\n",
    "At this point, `p` is **still** the relative path `\"temp\"`.\n",
    "\n",
    "---\n",
    "\n",
    "### 🔄 If you **want** to replace `p` with the absolute version:\n",
    "\n",
    "```python\n",
    "p = p.resolve()\n",
    "print(p)                # → /full/path/to/temp\n",
    "```\n",
    "\n",
    "Now `p` has been updated to hold the **absolute path**.\n",
    "\n",
    "---\n",
    "\n",
    "### 🔍 Summary:\n",
    "\n",
    "| Expression        | Result                          | Notes                            |\n",
    "| ----------------- | ------------------------------- | -------------------------------- |\n",
    "| `Path(\"temp\")`    | relative path `\"temp\"`          | just a reference                 |\n",
    "| `.resolve()`      | returns absolute path           | doesn’t modify unless reassigned |\n",
    "| `p = p.resolve()` | replaces relative with absolute | now `p` holds absolute path      |\n",
    "\n",
    "Would you like to test this live? Try printing both before and after resolving. Let me know what you observe.\n"
   ]
  },
  {
   "cell_type": "markdown",
   "id": "1336d094-f188-4dee-8738-4e08a8542105",
   "metadata": {},
   "source": [
    "Excellent — `.with_suffix('.db')` is a clean, elegant way to **change the file extension** of a `Path` object using `pathlib`.\n",
    "\n",
    "---\n",
    "\n",
    "### ✅ **What `.with_suffix()` Does**\n",
    "\n",
    "It **returns a new path** with the **file extension replaced** by the one you provide.\n",
    "\n",
    "> 📌 It does **not** rename the file on disk — just modifies the path object in memory.\n",
    "\n",
    "---\n",
    "\n",
    "### 🔍 Example:\n",
    "\n",
    "```python\n",
    "from pathlib import Path\n",
    "\n",
    "p = Path(\"data.csv\")\n",
    "new_p = p.with_suffix(\".db\")\n",
    "\n",
    "print(new_p)\n",
    "```\n",
    "\n",
    "📤 Output:\n",
    "\n",
    "```\n",
    "data.db\n",
    "```\n",
    "\n",
    "---\n",
    "\n",
    "### 🧠 Key Points:\n",
    "\n",
    "| Before           | After using `.with_suffix(\".db\")`       |\n",
    "| ---------------- | --------------------------------------- |\n",
    "| `report.txt`     | `report.db`                             |\n",
    "| `archive.tar.gz` | `archive.tar.db` (**only last suffix**) |\n",
    "\n",
    "It only changes the **final** extension — not everything after the first dot.\n",
    "\n",
    "---\n",
    "\n",
    "### ⚠️ Common Mistake:\n",
    "\n",
    "```python\n",
    "p = Path(\"folder\")         # No suffix\n",
    "p.with_suffix(\".db\")       # ❌ raises ValueError\n",
    "```\n",
    "\n",
    "📛 **Error:** Cannot change suffix of a path with **no suffix**.\n",
    "\n",
    "---\n",
    "\n",
    "### ✅ Best Practice:\n",
    "\n",
    "Make sure the file has a suffix before calling `.with_suffix()`.\n",
    "\n",
    "---\n",
    "\n",
    "Would you like to try using `.with_suffix()` in a mini challenge using your current directory files? I can guide you.\n"
   ]
  },
  {
   "cell_type": "markdown",
   "id": "d330f2eb-a066-4572-aba0-35b3720f3afe",
   "metadata": {},
   "source": [
    "Great question — understanding **why** we use `.with_suffix()` will help you write cleaner, safer, and more maintainable code.\n",
    "\n",
    "---\n",
    "\n",
    "### ✅ **Why Use `.with_suffix()`?**\n",
    "\n",
    "`.with_suffix()` is used when you want to **generate new filenames dynamically**, especially in workflows that involve:\n",
    "\n",
    "---\n",
    "\n",
    "### 🔹 1. **Converting Files**\n",
    "\n",
    "When you process a file and want to save the **output** with a new extension:\n",
    "\n",
    "```python\n",
    "input_file = Path(\"data.csv\")\n",
    "output_file = input_file.with_suffix(\".json\")\n",
    "# Save JSON output to data.json\n",
    "```\n",
    "\n",
    "This is cleaner than string slicing like:\n",
    "\n",
    "```python\n",
    "str(input_file).replace(\".csv\", \".json\")  # ❌ error-prone\n",
    "```\n",
    "\n",
    "---\n",
    "\n",
    "### 🔹 2. **Creating Temporary or Backup Files**\n",
    "\n",
    "Say you're modifying `config.ini`, but want to save a backup first:\n",
    "\n",
    "```python\n",
    "config_path = Path(\"config.ini\")\n",
    "backup_path = config_path.with_suffix(\".bak\")\n",
    "```\n",
    "\n",
    "---\n",
    "\n",
    "### 🔹 3. **Database/File Format Conversions**\n",
    "\n",
    "You're using a `.txt` to generate a `.db`:\n",
    "\n",
    "```python\n",
    "text_path = Path(\"records.txt\")\n",
    "db_path = text_path.with_suffix(\".db\")\n",
    "# Used to initialise a SQLite DB with same base name\n",
    "```\n",
    "\n",
    "---\n",
    "\n",
    "### 🔹 4. **Pipelines and Batch Jobs**\n",
    "\n",
    "Scripts that run in steps:\n",
    "\n",
    "* `input.txt` → `cleaned.tmp` → `output.csv`\n",
    "\n",
    "Each step can use `.with_suffix()` to produce the next path.\n",
    "\n",
    "---\n",
    "\n",
    "### 🔍 Why Not Just Use String Manipulation?\n",
    "\n",
    "```python\n",
    "filename = \"file.txt\"\n",
    "filename[:-4] + \".json\"  # fragile\n",
    "```\n",
    "\n",
    "* Breaks if the name contains a dot: `file.v1.txt`\n",
    "* Fails if extension length changes\n",
    "* Not OS-agnostic\n",
    "\n",
    "✅ `Path(\"file.v1.txt\").with_suffix(\".json\")` handles that gracefully.\n",
    "\n",
    "---\n",
    "\n",
    "Would you like to try writing a small routine where you scan a directory, find all `.txt` files, and print their equivalent `.db` path using `.with_suffix()`? I can guide you with step-by-step tasks.\n",
    "\n",
    "    "
   ]
  },
  {
   "cell_type": "code",
   "execution_count": 85,
   "id": "15a00348-b547-4015-bb5e-7ecba9d8364f",
   "metadata": {},
   "outputs": [
    {
     "name": "stdout",
     "output_type": "stream",
     "text": [
      "name: temp2\n",
      "/Users/siddhantgond/Desktop/Github_Modules/learning-lab/Pathlib/temp2.db\n",
      "name: temp3\n",
      "/Users/siddhantgond/Desktop/Github_Modules/learning-lab/Pathlib/temp3.db\n",
      "name: temp1\n",
      "/Users/siddhantgond/Desktop/Github_Modules/learning-lab/Pathlib/temp1.db\n"
     ]
    }
   ],
   "source": [
    "path = Path.cwd()\n",
    "\n",
    "for p in path.iterdir():\n",
    "    if p.suffix == \".txt\":\n",
    "        print(\"name:\", p.stem)\n",
    "        print(p.with_suffix(\".db\"))"
   ]
  },
  {
   "cell_type": "markdown",
   "id": "8d5c2e7c-a992-4248-921b-12800ddd5449",
   "metadata": {},
   "source": [
    "Yes — you **absolutely can create files using `pathlib`**, both **empty** and with **content**.\n",
    "\n",
    "But here’s the key insight:\n",
    "➡️ `pathlib.Path` helps **construct paths** and gives access to methods like `.write_text()`, `.write_bytes()`, `.touch()`, etc.\n",
    "It doesn’t replace file I/O — it **wraps it cleanly**.\n",
    "\n",
    "---\n",
    "\n",
    "### 🔧 Here's what you need to know:\n",
    "\n",
    "| Goal                  | Method                            | Description                               |\n",
    "| --------------------- | --------------------------------- | ----------------------------------------- |\n",
    "| Create an empty file  | `.touch()`                        | Like the Unix `touch` command             |\n",
    "| Write text to a file  | `.write_text(\"your content\")`     | Creates (or overwrites) with text content |\n",
    "| Write bytes to a file | `.write_bytes(b\"binary content\")` | Same as above, but for binary files       |\n",
    "\n",
    "---\n",
    "\n",
    "### 🧠 Your Turn:\n",
    "\n",
    "Start with just **one `.db` file**, and:\n",
    "\n",
    "> ✅ Create it using `pathlib`\n",
    "> ✅ Write a sentence like `\"This is a test database file\"` into it\n",
    "\n",
    "Don't worry — try it. If it errors, send me the code and message. I’ll guide you right.\n"
   ]
  },
  {
   "cell_type": "code",
   "execution_count": 88,
   "id": "3caee4f9-af5a-4997-87e7-7592259241dc",
   "metadata": {},
   "outputs": [],
   "source": [
    "path = Path.cwd()\n",
    "\n",
    "for p in path.iterdir():\n",
    "    if p.suffix == \".txt\":\n",
    "        path = p.with_suffix(\".db\")\n",
    "        break"
   ]
  },
  {
   "cell_type": "code",
   "execution_count": 89,
   "id": "1ce5bcfc-7d28-4e15-a058-fd7abf2155b1",
   "metadata": {},
   "outputs": [
    {
     "data": {
      "text/plain": [
       "PosixPath('/Users/siddhantgond/Desktop/Github_Modules/learning-lab/Pathlib/temp2.db')"
      ]
     },
     "execution_count": 89,
     "metadata": {},
     "output_type": "execute_result"
    }
   ],
   "source": [
    "path"
   ]
  },
  {
   "cell_type": "code",
   "execution_count": 90,
   "id": "8d1daf72-b0d9-4337-abb6-1578b59c0b0c",
   "metadata": {},
   "outputs": [
    {
     "data": {
      "text/plain": [
       "5"
      ]
     },
     "execution_count": 90,
     "metadata": {},
     "output_type": "execute_result"
    }
   ],
   "source": [
    "path.write_text(\"Hello\")"
   ]
  },
  {
   "cell_type": "code",
   "execution_count": null,
   "id": "23151b44-0d30-4503-9879-7a0679ce428d",
   "metadata": {},
   "outputs": [],
   "source": []
  }
 ],
 "metadata": {
  "kernelspec": {
   "display_name": "Python 3 (ipykernel)",
   "language": "python",
   "name": "python3"
  },
  "language_info": {
   "codemirror_mode": {
    "name": "ipython",
    "version": 3
   },
   "file_extension": ".py",
   "mimetype": "text/x-python",
   "name": "python",
   "nbconvert_exporter": "python",
   "pygments_lexer": "ipython3",
   "version": "3.13.2"
  }
 },
 "nbformat": 4,
 "nbformat_minor": 5
}
